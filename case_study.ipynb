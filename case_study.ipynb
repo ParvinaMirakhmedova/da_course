{
 "cells": [
  {
   "cell_type": "markdown",
   "metadata": {},
   "source": [
    "Case Study по модулю SQL\n",
    "Исполнитель - Мирахмедова Парвина\n"
   ]
  },
  {
   "cell_type": "markdown",
   "metadata": {},
   "source": [
    "**Блок 1. Создание схемы и таблиц**"
   ]
  },
  {
   "cell_type": "code",
   "execution_count": null,
   "metadata": {
    "vscode": {
     "languageId": "plaintext"
    }
   },
   "outputs": [],
   "source": [
    "import json\n",
    "import pandas as pd\n",
    "from sqlalchemy import text\n",
    "\n",
    "from connect import set_connection\n",
    "\n",
    "SCHEMA = \"adw_works\"\n",
    "\n",
    "def create_tables():\n",
    "    try:\n",
    "        # читаем содержимое файла 'queries/tables.sql'\n",
    "        with open('queries/tables.sql') as f:\n",
    "            tables_query = f.read()\n",
    "        \n",
    "        # создаём схему и таблицы\n",
    "        with set_connection() as psg:\n",
    "            psg.execute(text(tables_query))\n",
    "            psg.commit()\n",
    "        \n",
    "        print(\"Tables created successfully\")\n",
    "    except Exception as e:\n",
    "        print(e)\n",
    "\n",
    "create_tables()\n",
    "\n",
    "\n",
    "\n",
    "def read_xl(sheet_name, columns_dict):\n",
    "    temp_df = pd.read_excel(\n",
    "        'source/adventure_works.xlsx',\n",
    "        sheet_name=sheet_name,\n",
    "        usecols=columns_dict.keys()\n",
    "    ).rename(columns=columns_dict)\n",
    "    return temp_df\n",
    "\n",
    "with open('columns.json') as f:\n",
    "    tables_dict = json.load(f) \n",
    "\n",
    "def insert_to_db(temp_df, tbl_name):\n",
    "    with set_connection() as psg:\n",
    "        temp_df.to_sql(\n",
    "            schema=SCHEMA,\n",
    "            name=tbl_name,\n",
    "            con=psg,\n",
    "            index=False,\n",
    "            if_exists='append'\n",
    "        )\n",
    "\n",
    "def etl(sheet_name, columns_dict, tbl_name):\n",
    "    print(f\"inserting data to {tbl_name}...\")\n",
    "    temp_df = read_xl(sheet_name, columns_dict)\n",
    "    insert_to_db(temp_df, tbl_name)\n",
    "    \n",
    "for k, v in tables_dict.items():\n",
    "    etl(k, v[\"columns\"], v[\"table_name\"])\n",
    "\n"
   ]
  },
  {
   "cell_type": "markdown",
   "metadata": {},
   "source": [
    "**Блок 2. Аналитические задачи**"
   ]
  },
  {
   "cell_type": "markdown",
   "metadata": {},
   "source": [
    "***Секция 1. Анализ клиентов***\n",
    "Сегментация по доходу: Посчитайте средний годовой личный доход клиентов (YearlyIncome) в разбивке по роду деятельности (Occupation). Итоговая таблица должна содержать следующие поля: occupation, number_of_customers, avg_income."
   ]
  }
 ],
 "metadata": {
  "language_info": {
   "name": "python"
  }
 },
 "nbformat": 4,
 "nbformat_minor": 2
}
