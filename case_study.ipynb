{
 "cells": [
  {
   "cell_type": "markdown",
   "metadata": {},
   "source": [
    "Case Study по модулю SQL\n",
    "Исполнитель - Мирахмедова Парвина\n"
   ]
  },
  {
   "cell_type": "markdown",
   "metadata": {},
   "source": [
    "**Блок 1. Создание схемы и таблиц**"
   ]
  },
  {
   "cell_type": "code",
   "execution_count": null,
   "metadata": {},
   "outputs": [],
   "source": [
    "import json\n",
    "import pandas as pd\n",
    "from sqlalchemy import text\n",
    "\n",
    "from connect import set_connection\n",
    "\n",
    "SCHEMA = \"adw_works\"\n",
    "\n",
    "def create_tables():\n",
    "    try:\n",
    "        # читаем содержимое файла 'queries/tables.sql'\n",
    "        with open('queries/tables.sql') as f:\n",
    "            tables_query = f.read()\n",
    "        \n",
    "        # создаём схему и таблицы\n",
    "        with set_connection() as psg:\n",
    "            psg.execute(text(tables_query))\n",
    "            psg.commit()\n",
    "        \n",
    "        print(\"Tables created successfully\")\n",
    "    except Exception as e:\n",
    "        print(e)\n",
    "\n",
    "create_tables()\n",
    "\n",
    "\n",
    "\n",
    "def read_xl(sheet_name, columns_dict):\n",
    "    temp_df = pd.read_excel(\n",
    "        'source/adventure_works.xlsx',\n",
    "        sheet_name=sheet_name,\n",
    "        usecols=columns_dict.keys()\n",
    "    ).rename(columns=columns_dict)\n",
    "    return temp_df\n",
    "\n",
    "with open('columns.json') as f:\n",
    "    tables_dict = json.load(f) \n",
    "\n",
    "def insert_to_db(temp_df, tbl_name):\n",
    "    with set_connection() as psg:\n",
    "        temp_df.to_sql(\n",
    "            schema=SCHEMA,\n",
    "            name=tbl_name,\n",
    "            con=psg,\n",
    "            index=False,\n",
    "            if_exists='append'\n",
    "        )\n",
    "\n",
    "def etl(sheet_name, columns_dict, tbl_name):\n",
    "    print(f\"inserting data to {tbl_name}...\")\n",
    "    temp_df = read_xl(sheet_name, columns_dict)\n",
    "    insert_to_db(temp_df, tbl_name)\n",
    "    \n",
    "for k, v in tables_dict.items():\n",
    "    etl(k, v[\"columns\"], v[\"table_name\"])\n",
    "\n"
   ]
  },
  {
   "cell_type": "markdown",
   "metadata": {},
   "source": [
    "**Блок 2. Аналитические задачи**"
   ]
  },
  {
   "cell_type": "markdown",
   "metadata": {},
   "source": [
    "***Секция 1. Анализ клиентов***\n",
    "Сегментация по доходу: Посчитайте средний годовой личный доход клиентов (YearlyIncome) в разбивке по роду деятельности (Occupation). Итоговая таблица должна содержать следующие поля: occupation, number_of_customers, avg_income."
   ]
  },
  {
   "cell_type": "code",
   "execution_count": 4,
   "metadata": {},
   "outputs": [
    {
     "data": {
      "text/html": [
       "<div>\n",
       "<style scoped>\n",
       "    .dataframe tbody tr th:only-of-type {\n",
       "        vertical-align: middle;\n",
       "    }\n",
       "\n",
       "    .dataframe tbody tr th {\n",
       "        vertical-align: top;\n",
       "    }\n",
       "\n",
       "    .dataframe thead th {\n",
       "        text-align: right;\n",
       "    }\n",
       "</style>\n",
       "<table border=\"1\" class=\"dataframe\">\n",
       "  <thead>\n",
       "    <tr style=\"text-align: right;\">\n",
       "      <th></th>\n",
       "      <th>occupation</th>\n",
       "      <th>number_of_customers</th>\n",
       "      <th>avg_income</th>\n",
       "    </tr>\n",
       "  </thead>\n",
       "  <tbody>\n",
       "    <tr>\n",
       "      <th>0</th>\n",
       "      <td>Clerical</td>\n",
       "      <td>2928</td>\n",
       "      <td>30710.38</td>\n",
       "    </tr>\n",
       "    <tr>\n",
       "      <th>1</th>\n",
       "      <td>Management</td>\n",
       "      <td>3075</td>\n",
       "      <td>92325.20</td>\n",
       "    </tr>\n",
       "    <tr>\n",
       "      <th>2</th>\n",
       "      <td>Manual</td>\n",
       "      <td>2384</td>\n",
       "      <td>16451.34</td>\n",
       "    </tr>\n",
       "    <tr>\n",
       "      <th>3</th>\n",
       "      <td>Professional</td>\n",
       "      <td>5520</td>\n",
       "      <td>74184.78</td>\n",
       "    </tr>\n",
       "    <tr>\n",
       "      <th>4</th>\n",
       "      <td>Skilled Manual</td>\n",
       "      <td>4577</td>\n",
       "      <td>51715.10</td>\n",
       "    </tr>\n",
       "  </tbody>\n",
       "</table>\n",
       "</div>"
      ],
      "text/plain": [
       "       occupation  number_of_customers  avg_income\n",
       "0        Clerical                 2928    30710.38\n",
       "1      Management                 3075    92325.20\n",
       "2          Manual                 2384    16451.34\n",
       "3    Professional                 5520    74184.78\n",
       "4  Skilled Manual                 4577    51715.10"
      ]
     },
     "execution_count": 4,
     "metadata": {},
     "output_type": "execute_result"
    }
   ],
   "source": [
    "from sqlalchemy import create_engine\n",
    "from sqlalchemy.engine import URL\n",
    "import numpy as np\n",
    "import pandas as pd\n",
    "import plotly.express as px\n",
    "\n",
    "from connect import set_connection \n",
    "\n",
    "query =\"\"\"\n",
    "SELECT \n",
    "    occupation,\n",
    "    COUNT(customer_key) AS number_of_customers,\n",
    "    round(AVG(yearly_income),2) AS avg_income\n",
    "FROM \n",
    "    adw_works.customers\n",
    "GROUP BY \n",
    "    occupation\n",
    "ORDER BY \n",
    "    occupation;\n",
    "\"\"\"\n",
    "\n",
    "\n",
    "with set_connection() as conn:\n",
    "    df = pd.read_sql(query, conn)\n",
    "df"
   ]
  },
  {
   "cell_type": "markdown",
   "metadata": {},
   "source": [
    "**Секция 1. Анализ клиентов**\n",
    "***Семейный профиль***: Посчитайте долю (в процентах) клиентов с детьми и долю клиентов без детей. Итоговая таблица должна содержать следующие поля: *has_children* (где 1 означает - имеет детей и 0 - не имеет детей), *pct_of_customer_base*."
   ]
  },
  {
   "cell_type": "code",
   "execution_count": 8,
   "metadata": {},
   "outputs": [
    {
     "data": {
      "text/html": [
       "<div>\n",
       "<style scoped>\n",
       "    .dataframe tbody tr th:only-of-type {\n",
       "        vertical-align: middle;\n",
       "    }\n",
       "\n",
       "    .dataframe tbody tr th {\n",
       "        vertical-align: top;\n",
       "    }\n",
       "\n",
       "    .dataframe thead th {\n",
       "        text-align: right;\n",
       "    }\n",
       "</style>\n",
       "<table border=\"1\" class=\"dataframe\">\n",
       "  <thead>\n",
       "    <tr style=\"text-align: right;\">\n",
       "      <th></th>\n",
       "      <th>number_of_children</th>\n",
       "      <th>pct_of_customer_base</th>\n",
       "    </tr>\n",
       "  </thead>\n",
       "  <tbody>\n",
       "    <tr>\n",
       "      <th>0</th>\n",
       "      <td>0</td>\n",
       "      <td>60.14</td>\n",
       "    </tr>\n",
       "    <tr>\n",
       "      <th>1</th>\n",
       "      <td>1</td>\n",
       "      <td>13.31</td>\n",
       "    </tr>\n",
       "    <tr>\n",
       "      <th>2</th>\n",
       "      <td>2</td>\n",
       "      <td>8.92</td>\n",
       "    </tr>\n",
       "    <tr>\n",
       "      <th>3</th>\n",
       "      <td>3</td>\n",
       "      <td>6.51</td>\n",
       "    </tr>\n",
       "    <tr>\n",
       "      <th>4</th>\n",
       "      <td>4</td>\n",
       "      <td>5.89</td>\n",
       "    </tr>\n",
       "    <tr>\n",
       "      <th>5</th>\n",
       "      <td>5</td>\n",
       "      <td>5.23</td>\n",
       "    </tr>\n",
       "  </tbody>\n",
       "</table>\n",
       "</div>"
      ],
      "text/plain": [
       "   number_of_children  pct_of_customer_base\n",
       "0                   0                 60.14\n",
       "1                   1                 13.31\n",
       "2                   2                  8.92\n",
       "3                   3                  6.51\n",
       "4                   4                  5.89\n",
       "5                   5                  5.23"
      ]
     },
     "execution_count": 8,
     "metadata": {},
     "output_type": "execute_result"
    }
   ],
   "source": [
    "\n",
    "query =\"\"\"SELECT \n",
    "    number_of_children,\n",
    "    round(COUNT(customer_key) * 100.0 / (SELECT COUNT(*) FROM adw_works.customers),2) AS pct_of_customer_base\n",
    "FROM \n",
    "    adw_works.customers\n",
    "GROUP BY \n",
    "    number_of_children\n",
    "ORDER BY \n",
    "    number_of_children;\n",
    "\"\"\"\n",
    "with set_connection() as conn:\n",
    "    df = pd.read_sql(query, conn)\n",
    "df"
   ]
  },
  {
   "cell_type": "code",
   "execution_count": null,
   "metadata": {},
   "outputs": [],
   "source": []
  }
 ],
 "metadata": {
  "kernelspec": {
   "display_name": ".venv",
   "language": "python",
   "name": "python3"
  },
  "language_info": {
   "codemirror_mode": {
    "name": "ipython",
    "version": 3
   },
   "file_extension": ".py",
   "mimetype": "text/x-python",
   "name": "python",
   "nbconvert_exporter": "python",
   "pygments_lexer": "ipython3",
   "version": "3.13.2"
  }
 },
 "nbformat": 4,
 "nbformat_minor": 2
}
