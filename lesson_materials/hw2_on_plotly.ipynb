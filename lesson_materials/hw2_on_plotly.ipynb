{
 "cells": [
  {
   "cell_type": "markdown",
   "metadata": {},
   "source": [
    "**Домашнее задание №1**\n",
    "*Исполнитель* - Мирахмедова Парвина\n",
    "*Задача №1*\n",
    "На основе данных из таблицы track создайте столбчатую диаграмму, показывающую общую сумму минут (длительность треков) в разбивке по жанрам.\n"
   ]
  },
  {
   "cell_type": "code",
   "execution_count": null,
   "metadata": {},
   "outputs": [
    {
     "data": {
      "application/vnd.plotly.v1+json": {
       "config": {
        "plotlyServerURL": "https://plot.ly"
       },
       "data": [
        {
         "hovertemplate": "Жанр=%{x}<br>Общая длительность (мин)=%{y}<extra></extra>",
         "legendgroup": "",
         "marker": {
          "color": "#636efa",
          "pattern": {
           "shape": ""
          }
         },
         "name": "",
         "orientation": "v",
         "showlegend": false,
         "textposition": "auto",
         "type": "bar",
         "x": [
          "Heavy Metal",
          "TV Shows",
          "Latin",
          "Electronica/Dance",
          "R&B/Soul",
          "Opera",
          "Comedy",
          "Classical",
          "Pop",
          "Easy Listening",
          "Alternative",
          "Drama",
          "Sci Fi & Fantasy",
          "Rock",
          "World",
          "Reggae",
          "Blues",
          "Rock And Roll",
          "Alternative & Punk",
          "Metal",
          "Soundtrack",
          "Bossa Nova",
          "Science Fiction",
          "Hip Hop/Rap",
          "Jazz"
         ],
         "xaxis": "x",
         "y": {
          "bdata": "igD8DMcIlwDfAAIAwQFqAbcASwCwALoK7QT5F2gA7gBsARoAEAWKB68ANgA4AmcAeAI=",
          "dtype": "i2"
         },
         "yaxis": "y"
        }
       ],
       "layout": {
        "barmode": "relative",
        "legend": {
         "tracegroupgap": 0
        },
        "template": {
         "data": {
          "bar": [
           {
            "error_x": {
             "color": "#2a3f5f"
            },
            "error_y": {
             "color": "#2a3f5f"
            },
            "marker": {
             "line": {
              "color": "#E5ECF6",
              "width": 0.5
             },
             "pattern": {
              "fillmode": "overlay",
              "size": 10,
              "solidity": 0.2
             }
            },
            "type": "bar"
           }
          ],
          "barpolar": [
           {
            "marker": {
             "line": {
              "color": "#E5ECF6",
              "width": 0.5
             },
             "pattern": {
              "fillmode": "overlay",
              "size": 10,
              "solidity": 0.2
             }
            },
            "type": "barpolar"
           }
          ],
          "carpet": [
           {
            "aaxis": {
             "endlinecolor": "#2a3f5f",
             "gridcolor": "white",
             "linecolor": "white",
             "minorgridcolor": "white",
             "startlinecolor": "#2a3f5f"
            },
            "baxis": {
             "endlinecolor": "#2a3f5f",
             "gridcolor": "white",
             "linecolor": "white",
             "minorgridcolor": "white",
             "startlinecolor": "#2a3f5f"
            },
            "type": "carpet"
           }
          ],
          "choropleth": [
           {
            "colorbar": {
             "outlinewidth": 0,
             "ticks": ""
            },
            "type": "choropleth"
           }
          ],
          "contour": [
           {
            "colorbar": {
             "outlinewidth": 0,
             "ticks": ""
            },
            "colorscale": [
             [
              0,
              "#0d0887"
             ],
             [
              0.1111111111111111,
              "#46039f"
             ],
             [
              0.2222222222222222,
              "#7201a8"
             ],
             [
              0.3333333333333333,
              "#9c179e"
             ],
             [
              0.4444444444444444,
              "#bd3786"
             ],
             [
              0.5555555555555556,
              "#d8576b"
             ],
             [
              0.6666666666666666,
              "#ed7953"
             ],
             [
              0.7777777777777778,
              "#fb9f3a"
             ],
             [
              0.8888888888888888,
              "#fdca26"
             ],
             [
              1,
              "#f0f921"
             ]
            ],
            "type": "contour"
           }
          ],
          "contourcarpet": [
           {
            "colorbar": {
             "outlinewidth": 0,
             "ticks": ""
            },
            "type": "contourcarpet"
           }
          ],
          "heatmap": [
           {
            "colorbar": {
             "outlinewidth": 0,
             "ticks": ""
            },
            "colorscale": [
             [
              0,
              "#0d0887"
             ],
             [
              0.1111111111111111,
              "#46039f"
             ],
             [
              0.2222222222222222,
              "#7201a8"
             ],
             [
              0.3333333333333333,
              "#9c179e"
             ],
             [
              0.4444444444444444,
              "#bd3786"
             ],
             [
              0.5555555555555556,
              "#d8576b"
             ],
             [
              0.6666666666666666,
              "#ed7953"
             ],
             [
              0.7777777777777778,
              "#fb9f3a"
             ],
             [
              0.8888888888888888,
              "#fdca26"
             ],
             [
              1,
              "#f0f921"
             ]
            ],
            "type": "heatmap"
           }
          ],
          "histogram": [
           {
            "marker": {
             "pattern": {
              "fillmode": "overlay",
              "size": 10,
              "solidity": 0.2
             }
            },
            "type": "histogram"
           }
          ],
          "histogram2d": [
           {
            "colorbar": {
             "outlinewidth": 0,
             "ticks": ""
            },
            "colorscale": [
             [
              0,
              "#0d0887"
             ],
             [
              0.1111111111111111,
              "#46039f"
             ],
             [
              0.2222222222222222,
              "#7201a8"
             ],
             [
              0.3333333333333333,
              "#9c179e"
             ],
             [
              0.4444444444444444,
              "#bd3786"
             ],
             [
              0.5555555555555556,
              "#d8576b"
             ],
             [
              0.6666666666666666,
              "#ed7953"
             ],
             [
              0.7777777777777778,
              "#fb9f3a"
             ],
             [
              0.8888888888888888,
              "#fdca26"
             ],
             [
              1,
              "#f0f921"
             ]
            ],
            "type": "histogram2d"
           }
          ],
          "histogram2dcontour": [
           {
            "colorbar": {
             "outlinewidth": 0,
             "ticks": ""
            },
            "colorscale": [
             [
              0,
              "#0d0887"
             ],
             [
              0.1111111111111111,
              "#46039f"
             ],
             [
              0.2222222222222222,
              "#7201a8"
             ],
             [
              0.3333333333333333,
              "#9c179e"
             ],
             [
              0.4444444444444444,
              "#bd3786"
             ],
             [
              0.5555555555555556,
              "#d8576b"
             ],
             [
              0.6666666666666666,
              "#ed7953"
             ],
             [
              0.7777777777777778,
              "#fb9f3a"
             ],
             [
              0.8888888888888888,
              "#fdca26"
             ],
             [
              1,
              "#f0f921"
             ]
            ],
            "type": "histogram2dcontour"
           }
          ],
          "mesh3d": [
           {
            "colorbar": {
             "outlinewidth": 0,
             "ticks": ""
            },
            "type": "mesh3d"
           }
          ],
          "parcoords": [
           {
            "line": {
             "colorbar": {
              "outlinewidth": 0,
              "ticks": ""
             }
            },
            "type": "parcoords"
           }
          ],
          "pie": [
           {
            "automargin": true,
            "type": "pie"
           }
          ],
          "scatter": [
           {
            "fillpattern": {
             "fillmode": "overlay",
             "size": 10,
             "solidity": 0.2
            },
            "type": "scatter"
           }
          ],
          "scatter3d": [
           {
            "line": {
             "colorbar": {
              "outlinewidth": 0,
              "ticks": ""
             }
            },
            "marker": {
             "colorbar": {
              "outlinewidth": 0,
              "ticks": ""
             }
            },
            "type": "scatter3d"
           }
          ],
          "scattercarpet": [
           {
            "marker": {
             "colorbar": {
              "outlinewidth": 0,
              "ticks": ""
             }
            },
            "type": "scattercarpet"
           }
          ],
          "scattergeo": [
           {
            "marker": {
             "colorbar": {
              "outlinewidth": 0,
              "ticks": ""
             }
            },
            "type": "scattergeo"
           }
          ],
          "scattergl": [
           {
            "marker": {
             "colorbar": {
              "outlinewidth": 0,
              "ticks": ""
             }
            },
            "type": "scattergl"
           }
          ],
          "scattermap": [
           {
            "marker": {
             "colorbar": {
              "outlinewidth": 0,
              "ticks": ""
             }
            },
            "type": "scattermap"
           }
          ],
          "scattermapbox": [
           {
            "marker": {
             "colorbar": {
              "outlinewidth": 0,
              "ticks": ""
             }
            },
            "type": "scattermapbox"
           }
          ],
          "scatterpolar": [
           {
            "marker": {
             "colorbar": {
              "outlinewidth": 0,
              "ticks": ""
             }
            },
            "type": "scatterpolar"
           }
          ],
          "scatterpolargl": [
           {
            "marker": {
             "colorbar": {
              "outlinewidth": 0,
              "ticks": ""
             }
            },
            "type": "scatterpolargl"
           }
          ],
          "scatterternary": [
           {
            "marker": {
             "colorbar": {
              "outlinewidth": 0,
              "ticks": ""
             }
            },
            "type": "scatterternary"
           }
          ],
          "surface": [
           {
            "colorbar": {
             "outlinewidth": 0,
             "ticks": ""
            },
            "colorscale": [
             [
              0,
              "#0d0887"
             ],
             [
              0.1111111111111111,
              "#46039f"
             ],
             [
              0.2222222222222222,
              "#7201a8"
             ],
             [
              0.3333333333333333,
              "#9c179e"
             ],
             [
              0.4444444444444444,
              "#bd3786"
             ],
             [
              0.5555555555555556,
              "#d8576b"
             ],
             [
              0.6666666666666666,
              "#ed7953"
             ],
             [
              0.7777777777777778,
              "#fb9f3a"
             ],
             [
              0.8888888888888888,
              "#fdca26"
             ],
             [
              1,
              "#f0f921"
             ]
            ],
            "type": "surface"
           }
          ],
          "table": [
           {
            "cells": {
             "fill": {
              "color": "#EBF0F8"
             },
             "line": {
              "color": "white"
             }
            },
            "header": {
             "fill": {
              "color": "#C8D4E3"
             },
             "line": {
              "color": "white"
             }
            },
            "type": "table"
           }
          ]
         },
         "layout": {
          "annotationdefaults": {
           "arrowcolor": "#2a3f5f",
           "arrowhead": 0,
           "arrowwidth": 1
          },
          "autotypenumbers": "strict",
          "coloraxis": {
           "colorbar": {
            "outlinewidth": 0,
            "ticks": ""
           }
          },
          "colorscale": {
           "diverging": [
            [
             0,
             "#8e0152"
            ],
            [
             0.1,
             "#c51b7d"
            ],
            [
             0.2,
             "#de77ae"
            ],
            [
             0.3,
             "#f1b6da"
            ],
            [
             0.4,
             "#fde0ef"
            ],
            [
             0.5,
             "#f7f7f7"
            ],
            [
             0.6,
             "#e6f5d0"
            ],
            [
             0.7,
             "#b8e186"
            ],
            [
             0.8,
             "#7fbc41"
            ],
            [
             0.9,
             "#4d9221"
            ],
            [
             1,
             "#276419"
            ]
           ],
           "sequential": [
            [
             0,
             "#0d0887"
            ],
            [
             0.1111111111111111,
             "#46039f"
            ],
            [
             0.2222222222222222,
             "#7201a8"
            ],
            [
             0.3333333333333333,
             "#9c179e"
            ],
            [
             0.4444444444444444,
             "#bd3786"
            ],
            [
             0.5555555555555556,
             "#d8576b"
            ],
            [
             0.6666666666666666,
             "#ed7953"
            ],
            [
             0.7777777777777778,
             "#fb9f3a"
            ],
            [
             0.8888888888888888,
             "#fdca26"
            ],
            [
             1,
             "#f0f921"
            ]
           ],
           "sequentialminus": [
            [
             0,
             "#0d0887"
            ],
            [
             0.1111111111111111,
             "#46039f"
            ],
            [
             0.2222222222222222,
             "#7201a8"
            ],
            [
             0.3333333333333333,
             "#9c179e"
            ],
            [
             0.4444444444444444,
             "#bd3786"
            ],
            [
             0.5555555555555556,
             "#d8576b"
            ],
            [
             0.6666666666666666,
             "#ed7953"
            ],
            [
             0.7777777777777778,
             "#fb9f3a"
            ],
            [
             0.8888888888888888,
             "#fdca26"
            ],
            [
             1,
             "#f0f921"
            ]
           ]
          },
          "colorway": [
           "#636efa",
           "#EF553B",
           "#00cc96",
           "#ab63fa",
           "#FFA15A",
           "#19d3f3",
           "#FF6692",
           "#B6E880",
           "#FF97FF",
           "#FECB52"
          ],
          "font": {
           "color": "#2a3f5f"
          },
          "geo": {
           "bgcolor": "white",
           "lakecolor": "white",
           "landcolor": "#E5ECF6",
           "showlakes": true,
           "showland": true,
           "subunitcolor": "white"
          },
          "hoverlabel": {
           "align": "left"
          },
          "hovermode": "closest",
          "mapbox": {
           "style": "light"
          },
          "paper_bgcolor": "white",
          "plot_bgcolor": "#E5ECF6",
          "polar": {
           "angularaxis": {
            "gridcolor": "white",
            "linecolor": "white",
            "ticks": ""
           },
           "bgcolor": "#E5ECF6",
           "radialaxis": {
            "gridcolor": "white",
            "linecolor": "white",
            "ticks": ""
           }
          },
          "scene": {
           "xaxis": {
            "backgroundcolor": "#E5ECF6",
            "gridcolor": "white",
            "gridwidth": 2,
            "linecolor": "white",
            "showbackground": true,
            "ticks": "",
            "zerolinecolor": "white"
           },
           "yaxis": {
            "backgroundcolor": "#E5ECF6",
            "gridcolor": "white",
            "gridwidth": 2,
            "linecolor": "white",
            "showbackground": true,
            "ticks": "",
            "zerolinecolor": "white"
           },
           "zaxis": {
            "backgroundcolor": "#E5ECF6",
            "gridcolor": "white",
            "gridwidth": 2,
            "linecolor": "white",
            "showbackground": true,
            "ticks": "",
            "zerolinecolor": "white"
           }
          },
          "shapedefaults": {
           "line": {
            "color": "#2a3f5f"
           }
          },
          "ternary": {
           "aaxis": {
            "gridcolor": "white",
            "linecolor": "white",
            "ticks": ""
           },
           "baxis": {
            "gridcolor": "white",
            "linecolor": "white",
            "ticks": ""
           },
           "bgcolor": "#E5ECF6",
           "caxis": {
            "gridcolor": "white",
            "linecolor": "white",
            "ticks": ""
           }
          },
          "title": {
           "x": 0.05
          },
          "xaxis": {
           "automargin": true,
           "gridcolor": "white",
           "linecolor": "white",
           "ticks": "",
           "title": {
            "standoff": 15
           },
           "zerolinecolor": "white",
           "zerolinewidth": 2
          },
          "yaxis": {
           "automargin": true,
           "gridcolor": "white",
           "linecolor": "white",
           "ticks": "",
           "title": {
            "standoff": 15
           },
           "zerolinecolor": "white",
           "zerolinewidth": 2
          }
         }
        },
        "title": {
         "text": "Общая длительность треков по жанрам"
        },
        "xaxis": {
         "anchor": "y",
         "domain": [
          0,
          1
         ],
         "title": {
          "text": "Жанр"
         }
        },
        "yaxis": {
         "anchor": "x",
         "domain": [
          0,
          1
         ],
         "title": {
          "text": "Общая длительность (мин)"
         }
        }
       }
      }
     },
     "metadata": {},
     "output_type": "display_data"
    }
   ],
   "source": [
    "from sqlalchemy import create_engine\n",
    "from sqlalchemy.engine import URL\n",
    "import numpy as np\n",
    "import pandas as pd\n",
    "import plotly.express as px\n",
    "\n",
    "from connect import set_connection \n",
    "\n",
    "query =\"\"\"\n",
    "select g.name as genre_name, \n",
    "    sum(t.milliseconds)/60000 as total_duration\n",
    "    from track t\n",
    "    join genre g on t.genre_id = g.genre_id\n",
    "    group by g.name\n",
    "\"\"\"\n",
    "\n",
    "with set_connection() as conn:\n",
    "    genre_duration_df = pd.read_sql(query, conn)\n",
    "\n",
    "fig = px.bar(genre_duration_df, \n",
    "             x='genre_name', \n",
    "             y='total_duration',\n",
    "            title=\"Общая длительность треков по жанрам\",\n",
    "             labels={'genre_name': 'Жанр', 'total_duration': 'Общая длительность (мин)'})\n",
    "\n",
    "fig.show()\n"
   ]
  },
  {
   "cell_type": "markdown",
   "metadata": {},
   "source": [
    "**Задача 2**\n",
    "На основе данных из таблицы track создайте диаграмму рассеивания, показывающую соотношение минут и мегабайтов.\n"
   ]
  },
  {
   "cell_type": "code",
   "execution_count": null,
   "metadata": {},
   "outputs": [
    {
     "data": {
      "application/vnd.plotly.v1+json": {
       "config": {
        "plotlyServerURL": "https://plot.ly"
       },
       "data": [
        {
         "hovertemplate": "Длительность (мин)=%{x}<br>Размер (МБ)=%{y}<extra></extra>",
         "legendgroup": "",
         "marker": {
          "color": "#636efa",
          "symbol": "circle"
         },
         "mode": "markers",
         "name": "",
         "showlegend": false,
         "type": "scattergl",
         "x": {
          "bdata": "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",
          "dtype": "f8"
         },
         "xaxis": "x",
         "y": {
          "bdata": "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",
          "dtype": "f8"
         },
         "yaxis": "y"
        }
       ],
       "layout": {
        "legend": {
         "tracegroupgap": 0
        },
        "template": {
         "data": {
          "bar": [
           {
            "error_x": {
             "color": "#2a3f5f"
            },
            "error_y": {
             "color": "#2a3f5f"
            },
            "marker": {
             "line": {
              "color": "#E5ECF6",
              "width": 0.5
             },
             "pattern": {
              "fillmode": "overlay",
              "size": 10,
              "solidity": 0.2
             }
            },
            "type": "bar"
           }
          ],
          "barpolar": [
           {
            "marker": {
             "line": {
              "color": "#E5ECF6",
              "width": 0.5
             },
             "pattern": {
              "fillmode": "overlay",
              "size": 10,
              "solidity": 0.2
             }
            },
            "type": "barpolar"
           }
          ],
          "carpet": [
           {
            "aaxis": {
             "endlinecolor": "#2a3f5f",
             "gridcolor": "white",
             "linecolor": "white",
             "minorgridcolor": "white",
             "startlinecolor": "#2a3f5f"
            },
            "baxis": {
             "endlinecolor": "#2a3f5f",
             "gridcolor": "white",
             "linecolor": "white",
             "minorgridcolor": "white",
             "startlinecolor": "#2a3f5f"
            },
            "type": "carpet"
           }
          ],
          "choropleth": [
           {
            "colorbar": {
             "outlinewidth": 0,
             "ticks": ""
            },
            "type": "choropleth"
           }
          ],
          "contour": [
           {
            "colorbar": {
             "outlinewidth": 0,
             "ticks": ""
            },
            "colorscale": [
             [
              0,
              "#0d0887"
             ],
             [
              0.1111111111111111,
              "#46039f"
             ],
             [
              0.2222222222222222,
              "#7201a8"
             ],
             [
              0.3333333333333333,
              "#9c179e"
             ],
             [
              0.4444444444444444,
              "#bd3786"
             ],
             [
              0.5555555555555556,
              "#d8576b"
             ],
             [
              0.6666666666666666,
              "#ed7953"
             ],
             [
              0.7777777777777778,
              "#fb9f3a"
             ],
             [
              0.8888888888888888,
              "#fdca26"
             ],
             [
              1,
              "#f0f921"
             ]
            ],
            "type": "contour"
           }
          ],
          "contourcarpet": [
           {
            "colorbar": {
             "outlinewidth": 0,
             "ticks": ""
            },
            "type": "contourcarpet"
           }
          ],
          "heatmap": [
           {
            "colorbar": {
             "outlinewidth": 0,
             "ticks": ""
            },
            "colorscale": [
             [
              0,
              "#0d0887"
             ],
             [
              0.1111111111111111,
              "#46039f"
             ],
             [
              0.2222222222222222,
              "#7201a8"
             ],
             [
              0.3333333333333333,
              "#9c179e"
             ],
             [
              0.4444444444444444,
              "#bd3786"
             ],
             [
              0.5555555555555556,
              "#d8576b"
             ],
             [
              0.6666666666666666,
              "#ed7953"
             ],
             [
              0.7777777777777778,
              "#fb9f3a"
             ],
             [
              0.8888888888888888,
              "#fdca26"
             ],
             [
              1,
              "#f0f921"
             ]
            ],
            "type": "heatmap"
           }
          ],
          "histogram": [
           {
            "marker": {
             "pattern": {
              "fillmode": "overlay",
              "size": 10,
              "solidity": 0.2
             }
            },
            "type": "histogram"
           }
          ],
          "histogram2d": [
           {
            "colorbar": {
             "outlinewidth": 0,
             "ticks": ""
            },
            "colorscale": [
             [
              0,
              "#0d0887"
             ],
             [
              0.1111111111111111,
              "#46039f"
             ],
             [
              0.2222222222222222,
              "#7201a8"
             ],
             [
              0.3333333333333333,
              "#9c179e"
             ],
             [
              0.4444444444444444,
              "#bd3786"
             ],
             [
              0.5555555555555556,
              "#d8576b"
             ],
             [
              0.6666666666666666,
              "#ed7953"
             ],
             [
              0.7777777777777778,
              "#fb9f3a"
             ],
             [
              0.8888888888888888,
              "#fdca26"
             ],
             [
              1,
              "#f0f921"
             ]
            ],
            "type": "histogram2d"
           }
          ],
          "histogram2dcontour": [
           {
            "colorbar": {
             "outlinewidth": 0,
             "ticks": ""
            },
            "colorscale": [
             [
              0,
              "#0d0887"
             ],
             [
              0.1111111111111111,
              "#46039f"
             ],
             [
              0.2222222222222222,
              "#7201a8"
             ],
             [
              0.3333333333333333,
              "#9c179e"
             ],
             [
              0.4444444444444444,
              "#bd3786"
             ],
             [
              0.5555555555555556,
              "#d8576b"
             ],
             [
              0.6666666666666666,
              "#ed7953"
             ],
             [
              0.7777777777777778,
              "#fb9f3a"
             ],
             [
              0.8888888888888888,
              "#fdca26"
             ],
             [
              1,
              "#f0f921"
             ]
            ],
            "type": "histogram2dcontour"
           }
          ],
          "mesh3d": [
           {
            "colorbar": {
             "outlinewidth": 0,
             "ticks": ""
            },
            "type": "mesh3d"
           }
          ],
          "parcoords": [
           {
            "line": {
             "colorbar": {
              "outlinewidth": 0,
              "ticks": ""
             }
            },
            "type": "parcoords"
           }
          ],
          "pie": [
           {
            "automargin": true,
            "type": "pie"
           }
          ],
          "scatter": [
           {
            "fillpattern": {
             "fillmode": "overlay",
             "size": 10,
             "solidity": 0.2
            },
            "type": "scatter"
           }
          ],
          "scatter3d": [
           {
            "line": {
             "colorbar": {
              "outlinewidth": 0,
              "ticks": ""
             }
            },
            "marker": {
             "colorbar": {
              "outlinewidth": 0,
              "ticks": ""
             }
            },
            "type": "scatter3d"
           }
          ],
          "scattercarpet": [
           {
            "marker": {
             "colorbar": {
              "outlinewidth": 0,
              "ticks": ""
             }
            },
            "type": "scattercarpet"
           }
          ],
          "scattergeo": [
           {
            "marker": {
             "colorbar": {
              "outlinewidth": 0,
              "ticks": ""
             }
            },
            "type": "scattergeo"
           }
          ],
          "scattergl": [
           {
            "marker": {
             "colorbar": {
              "outlinewidth": 0,
              "ticks": ""
             }
            },
            "type": "scattergl"
           }
          ],
          "scattermap": [
           {
            "marker": {
             "colorbar": {
              "outlinewidth": 0,
              "ticks": ""
             }
            },
            "type": "scattermap"
           }
          ],
          "scattermapbox": [
           {
            "marker": {
             "colorbar": {
              "outlinewidth": 0,
              "ticks": ""
             }
            },
            "type": "scattermapbox"
           }
          ],
          "scatterpolar": [
           {
            "marker": {
             "colorbar": {
              "outlinewidth": 0,
              "ticks": ""
             }
            },
            "type": "scatterpolar"
           }
          ],
          "scatterpolargl": [
           {
            "marker": {
             "colorbar": {
              "outlinewidth": 0,
              "ticks": ""
             }
            },
            "type": "scatterpolargl"
           }
          ],
          "scatterternary": [
           {
            "marker": {
             "colorbar": {
              "outlinewidth": 0,
              "ticks": ""
             }
            },
            "type": "scatterternary"
           }
          ],
          "surface": [
           {
            "colorbar": {
             "outlinewidth": 0,
             "ticks": ""
            },
            "colorscale": [
             [
              0,
              "#0d0887"
             ],
             [
              0.1111111111111111,
              "#46039f"
             ],
             [
              0.2222222222222222,
              "#7201a8"
             ],
             [
              0.3333333333333333,
              "#9c179e"
             ],
             [
              0.4444444444444444,
              "#bd3786"
             ],
             [
              0.5555555555555556,
              "#d8576b"
             ],
             [
              0.6666666666666666,
              "#ed7953"
             ],
             [
              0.7777777777777778,
              "#fb9f3a"
             ],
             [
              0.8888888888888888,
              "#fdca26"
             ],
             [
              1,
              "#f0f921"
             ]
            ],
            "type": "surface"
           }
          ],
          "table": [
           {
            "cells": {
             "fill": {
              "color": "#EBF0F8"
             },
             "line": {
              "color": "white"
             }
            },
            "header": {
             "fill": {
              "color": "#C8D4E3"
             },
             "line": {
              "color": "white"
             }
            },
            "type": "table"
           }
          ]
         },
         "layout": {
          "annotationdefaults": {
           "arrowcolor": "#2a3f5f",
           "arrowhead": 0,
           "arrowwidth": 1
          },
          "autotypenumbers": "strict",
          "coloraxis": {
           "colorbar": {
            "outlinewidth": 0,
            "ticks": ""
           }
          },
          "colorscale": {
           "diverging": [
            [
             0,
             "#8e0152"
            ],
            [
             0.1,
             "#c51b7d"
            ],
            [
             0.2,
             "#de77ae"
            ],
            [
             0.3,
             "#f1b6da"
            ],
            [
             0.4,
             "#fde0ef"
            ],
            [
             0.5,
             "#f7f7f7"
            ],
            [
             0.6,
             "#e6f5d0"
            ],
            [
             0.7,
             "#b8e186"
            ],
            [
             0.8,
             "#7fbc41"
            ],
            [
             0.9,
             "#4d9221"
            ],
            [
             1,
             "#276419"
            ]
           ],
           "sequential": [
            [
             0,
             "#0d0887"
            ],
            [
             0.1111111111111111,
             "#46039f"
            ],
            [
             0.2222222222222222,
             "#7201a8"
            ],
            [
             0.3333333333333333,
             "#9c179e"
            ],
            [
             0.4444444444444444,
             "#bd3786"
            ],
            [
             0.5555555555555556,
             "#d8576b"
            ],
            [
             0.6666666666666666,
             "#ed7953"
            ],
            [
             0.7777777777777778,
             "#fb9f3a"
            ],
            [
             0.8888888888888888,
             "#fdca26"
            ],
            [
             1,
             "#f0f921"
            ]
           ],
           "sequentialminus": [
            [
             0,
             "#0d0887"
            ],
            [
             0.1111111111111111,
             "#46039f"
            ],
            [
             0.2222222222222222,
             "#7201a8"
            ],
            [
             0.3333333333333333,
             "#9c179e"
            ],
            [
             0.4444444444444444,
             "#bd3786"
            ],
            [
             0.5555555555555556,
             "#d8576b"
            ],
            [
             0.6666666666666666,
             "#ed7953"
            ],
            [
             0.7777777777777778,
             "#fb9f3a"
            ],
            [
             0.8888888888888888,
             "#fdca26"
            ],
            [
             1,
             "#f0f921"
            ]
           ]
          },
          "colorway": [
           "#636efa",
           "#EF553B",
           "#00cc96",
           "#ab63fa",
           "#FFA15A",
           "#19d3f3",
           "#FF6692",
           "#B6E880",
           "#FF97FF",
           "#FECB52"
          ],
          "font": {
           "color": "#2a3f5f"
          },
          "geo": {
           "bgcolor": "white",
           "lakecolor": "white",
           "landcolor": "#E5ECF6",
           "showlakes": true,
           "showland": true,
           "subunitcolor": "white"
          },
          "hoverlabel": {
           "align": "left"
          },
          "hovermode": "closest",
          "mapbox": {
           "style": "light"
          },
          "paper_bgcolor": "white",
          "plot_bgcolor": "#E5ECF6",
          "polar": {
           "angularaxis": {
            "gridcolor": "white",
            "linecolor": "white",
            "ticks": ""
           },
           "bgcolor": "#E5ECF6",
           "radialaxis": {
            "gridcolor": "white",
            "linecolor": "white",
            "ticks": ""
           }
          },
          "scene": {
           "xaxis": {
            "backgroundcolor": "#E5ECF6",
            "gridcolor": "white",
            "gridwidth": 2,
            "linecolor": "white",
            "showbackground": true,
            "ticks": "",
            "zerolinecolor": "white"
           },
           "yaxis": {
            "backgroundcolor": "#E5ECF6",
            "gridcolor": "white",
            "gridwidth": 2,
            "linecolor": "white",
            "showbackground": true,
            "ticks": "",
            "zerolinecolor": "white"
           },
           "zaxis": {
            "backgroundcolor": "#E5ECF6",
            "gridcolor": "white",
            "gridwidth": 2,
            "linecolor": "white",
            "showbackground": true,
            "ticks": "",
            "zerolinecolor": "white"
           }
          },
          "shapedefaults": {
           "line": {
            "color": "#2a3f5f"
           }
          },
          "ternary": {
           "aaxis": {
            "gridcolor": "white",
            "linecolor": "white",
            "ticks": ""
           },
           "baxis": {
            "gridcolor": "white",
            "linecolor": "white",
            "ticks": ""
           },
           "bgcolor": "#E5ECF6",
           "caxis": {
            "gridcolor": "white",
            "linecolor": "white",
            "ticks": ""
           }
          },
          "title": {
           "x": 0.05
          },
          "xaxis": {
           "automargin": true,
           "gridcolor": "white",
           "linecolor": "white",
           "ticks": "",
           "title": {
            "standoff": 15
           },
           "zerolinecolor": "white",
           "zerolinewidth": 2
          },
          "yaxis": {
           "automargin": true,
           "gridcolor": "white",
           "linecolor": "white",
           "ticks": "",
           "title": {
            "standoff": 15
           },
           "zerolinecolor": "white",
           "zerolinewidth": 2
          }
         }
        },
        "title": {
         "text": "Соотношение минут и мегабайтов"
        },
        "xaxis": {
         "anchor": "y",
         "domain": [
          0,
          1
         ],
         "title": {
          "text": "Длительность (мин)"
         }
        },
        "yaxis": {
         "anchor": "x",
         "domain": [
          0,
          1
         ],
         "title": {
          "text": "Размер (МБ)"
         }
        }
       }
      }
     },
     "metadata": {},
     "output_type": "display_data"
    }
   ],
   "source": [
    "query = \"\"\"\n",
    "    select milliseconds, bytes\n",
    "    from track\n",
    "\"\"\"\n",
    "with set_connection() as conn:\n",
    "    tracks_df = pd.read_sql(query, conn)\n",
    "\n",
    "tracks_df['minutes'] = tracks_df['milliseconds'] / 60000\n",
    "tracks_df['megabytes'] = tracks_df['bytes'] / (1024 * 1024)\n",
    "\n",
    "fig = px.scatter(tracks_df, x='minutes', y='megabytes', title=\"Соотношение минут и мегабайтов\",\n",
    "                 labels={'minutes': 'Длительность (мин)', 'megabytes': 'Размер (МБ)'})\n",
    "\n",
    "fig.show()"
   ]
  },
  {
   "cell_type": "markdown",
   "metadata": {},
   "source": [
    "**Задача 3**\n",
    "На основе данных из таблицы invoice создайте коробчатую диаграмму, показывающую распределение дохода (поле total) в разбивке по странам."
   ]
  },
  {
   "cell_type": "code",
   "execution_count": null,
   "metadata": {},
   "outputs": [
    {
     "data": {
      "application/vnd.plotly.v1+json": {
       "config": {
        "plotlyServerURL": "https://plot.ly"
       },
       "data": [
        {
         "alignmentgroup": "True",
         "hovertemplate": "Страна=%{x}<br>Доход=%{y}<extra></extra>",
         "legendgroup": "",
         "marker": {
          "color": "#636efa"
         },
         "name": "",
         "notched": false,
         "offsetgroup": "",
         "orientation": "v",
         "showlegend": false,
         "type": "box",
         "x": [
          "Germany",
          "Norway",
          "Belgium",
          "Canada",
          "USA",
          "Germany",
          "Germany",
          "France",
          "France",
          "Ireland",
          "United Kingdom",
          "Germany",
          "USA",
          "USA",
          "USA",
          "USA",
          "USA",
          "Canada",
          "France",
          "United Kingdom",
          "Australia",
          "Chile",
          "India",
          "Norway",
          "Brazil",
          "USA",
          "Canada",
          "Portugal",
          "Germany",
          "Germany",
          "France",
          "Netherlands",
          "Chile",
          "Brazil",
          "Brazil",
          "Canada",
          "USA",
          "USA",
          "USA",
          "Germany",
          "Spain",
          "Sweden",
          "United Kingdom",
          "Australia",
          "India",
          "Czech Republic",
          "Canada",
          "Canada",
          "Canada",
          "Canada",
          "Portugal",
          "Germany",
          "Finland",
          "United Kingdom",
          "Belgium",
          "Denmark",
          "Brazil",
          "Brazil",
          "USA",
          "USA",
          "Canada",
          "Ireland",
          "Italy",
          "Poland",
          "Sweden",
          "Australia",
          "Germany",
          "Brazil",
          "USA",
          "USA",
          "USA",
          "Canada",
          "Portugal",
          "France",
          "Poland",
          "Norway",
          "Czech Republic",
          "Austria",
          "Denmark",
          "Brazil",
          "USA",
          "USA",
          "France",
          "France",
          "Hungary",
          "Italy",
          "Sweden",
          "Chile",
          "Austria",
          "USA",
          "USA",
          "USA",
          "USA",
          "Canada",
          "Germany",
          "Hungary",
          "India",
          "Brazil",
          "Canada",
          "Czech Republic",
          "Denmark",
          "Canada",
          "USA",
          "Germany",
          "France",
          "France",
          "France",
          "Italy",
          "United Kingdom",
          "Canada",
          "USA",
          "USA",
          "USA",
          "USA",
          "USA",
          "Canada",
          "France",
          "Australia",
          "Argentina",
          "India",
          "Brazil",
          "Czech Republic",
          "Brazil",
          "USA",
          "Portugal",
          "Portugal",
          "Germany",
          "France",
          "France",
          "Poland",
          "India",
          "Brazil",
          "Canada",
          "USA",
          "USA",
          "USA",
          "USA",
          "Germany",
          "Sweden",
          "United Kingdom",
          "United Kingdom",
          "Argentina",
          "Brazil",
          "Austria",
          "USA",
          "Canada",
          "Canada",
          "Canada",
          "Portugal",
          "France",
          "Hungary",
          "United Kingdom",
          "Denmark",
          "Brazil",
          "Brazil",
          "Canada",
          "USA",
          "USA",
          "Canada",
          "Italy",
          "Netherlands",
          "Spain",
          "United Kingdom",
          "Argentina",
          "Canada",
          "Brazil",
          "USA",
          "USA",
          "Canada",
          "Canada",
          "Portugal",
          "France",
          "Spain",
          "Czech Republic",
          "Czech Republic",
          "Belgium",
          "Brazil",
          "Canada",
          "USA",
          "Canada",
          "France",
          "Finland",
          "Ireland",
          "Netherlands",
          "United Kingdom",
          "India",
          "Belgium",
          "USA",
          "USA",
          "USA",
          "USA",
          "Canada",
          "Germany",
          "Ireland",
          "Brazil",
          "Germany",
          "Norway",
          "Czech Republic",
          "Brazil",
          "USA",
          "USA",
          "France",
          "France",
          "France",
          "Finland",
          "Netherlands",
          "United Kingdom",
          "Norway",
          "USA",
          "USA",
          "USA",
          "USA",
          "USA",
          "Canada",
          "France",
          "Argentina",
          "Chile",
          "India",
          "Germany",
          "Czech Republic",
          "Brazil",
          "USA",
          "Portugal",
          "Germany",
          "Germany",
          "France",
          "Finland",
          "Spain",
          "India",
          "Canada",
          "Canada",
          "USA",
          "USA",
          "USA",
          "Canada",
          "Germany",
          "United Kingdom",
          "United Kingdom",
          "Australia",
          "Chile",
          "Germany",
          "Belgium",
          "USA",
          "Canada",
          "Canada",
          "Portugal",
          "Germany",
          "France",
          "Ireland",
          "Australia",
          "Brazil",
          "Brazil",
          "Brazil",
          "Canada",
          "USA",
          "USA",
          "Portugal",
          "Netherlands",
          "Poland",
          "Sweden",
          "United Kingdom",
          "Chile",
          "Norway",
          "Brazil",
          "USA",
          "USA",
          "Canada",
          "Canada",
          "Germany",
          "France",
          "Sweden",
          "Czech Republic",
          "Austria",
          "Denmark",
          "Brazil",
          "Canada",
          "USA",
          "Canada",
          "Finland",
          "Hungary",
          "Italy",
          "Poland",
          "United Kingdom",
          "India",
          "Denmark",
          "USA",
          "USA",
          "USA",
          "USA",
          "Canada",
          "Germany",
          "Italy",
          "Germany",
          "Canada",
          "Czech Republic",
          "Austria",
          "Brazil",
          "USA",
          "USA",
          "France",
          "France",
          "France",
          "Hungary",
          "Poland",
          "Australia",
          "Czech Republic",
          "USA",
          "USA",
          "USA",
          "USA",
          "USA",
          "Portugal",
          "France",
          "Chile",
          "India",
          "Brazil",
          "Canada",
          "Austria",
          "Brazil",
          "USA",
          "Germany",
          "Germany",
          "France",
          "France",
          "Hungary",
          "Sweden",
          "Brazil",
          "Canada",
          "USA",
          "USA",
          "USA",
          "USA",
          "Canada",
          "France",
          "United Kingdom",
          "United Kingdom",
          "Argentina",
          "India",
          "Canada",
          "Denmark",
          "USA",
          "Canada",
          "Canada",
          "Portugal",
          "Germany",
          "France",
          "Italy",
          "Argentina",
          "Brazil",
          "Brazil",
          "Canada",
          "USA",
          "USA",
          "USA",
          "Portugal",
          "Poland",
          "Spain",
          "United Kingdom",
          "United Kingdom",
          "India",
          "Czech Republic",
          "Canada",
          "USA",
          "Canada",
          "Canada",
          "Canada",
          "Germany",
          "France",
          "United Kingdom",
          "Austria",
          "Belgium",
          "Brazil",
          "Brazil",
          "USA",
          "USA",
          "Canada",
          "Hungary",
          "Ireland",
          "Netherlands",
          "Spain",
          "United Kingdom",
          "Brazil",
          "Brazil",
          "USA",
          "USA",
          "USA",
          "Canada",
          "Canada",
          "France",
          "Netherlands",
          "Canada",
          "Norway",
          "Czech Republic",
          "Belgium",
          "Brazil",
          "USA",
          "USA",
          "France",
          "France",
          "Finland",
          "Ireland",
          "Spain",
          "Argentina",
          "Czech Republic",
          "USA",
          "USA",
          "USA",
          "USA",
          "Canada",
          "Portugal",
          "Finland",
          "India"
         ],
         "x0": " ",
         "xaxis": "x",
         "y": {
          "bdata": "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",
          "dtype": "f8"
         },
         "y0": " ",
         "yaxis": "y"
        }
       ],
       "layout": {
        "boxmode": "group",
        "legend": {
         "tracegroupgap": 0
        },
        "template": {
         "data": {
          "bar": [
           {
            "error_x": {
             "color": "#2a3f5f"
            },
            "error_y": {
             "color": "#2a3f5f"
            },
            "marker": {
             "line": {
              "color": "#E5ECF6",
              "width": 0.5
             },
             "pattern": {
              "fillmode": "overlay",
              "size": 10,
              "solidity": 0.2
             }
            },
            "type": "bar"
           }
          ],
          "barpolar": [
           {
            "marker": {
             "line": {
              "color": "#E5ECF6",
              "width": 0.5
             },
             "pattern": {
              "fillmode": "overlay",
              "size": 10,
              "solidity": 0.2
             }
            },
            "type": "barpolar"
           }
          ],
          "carpet": [
           {
            "aaxis": {
             "endlinecolor": "#2a3f5f",
             "gridcolor": "white",
             "linecolor": "white",
             "minorgridcolor": "white",
             "startlinecolor": "#2a3f5f"
            },
            "baxis": {
             "endlinecolor": "#2a3f5f",
             "gridcolor": "white",
             "linecolor": "white",
             "minorgridcolor": "white",
             "startlinecolor": "#2a3f5f"
            },
            "type": "carpet"
           }
          ],
          "choropleth": [
           {
            "colorbar": {
             "outlinewidth": 0,
             "ticks": ""
            },
            "type": "choropleth"
           }
          ],
          "contour": [
           {
            "colorbar": {
             "outlinewidth": 0,
             "ticks": ""
            },
            "colorscale": [
             [
              0,
              "#0d0887"
             ],
             [
              0.1111111111111111,
              "#46039f"
             ],
             [
              0.2222222222222222,
              "#7201a8"
             ],
             [
              0.3333333333333333,
              "#9c179e"
             ],
             [
              0.4444444444444444,
              "#bd3786"
             ],
             [
              0.5555555555555556,
              "#d8576b"
             ],
             [
              0.6666666666666666,
              "#ed7953"
             ],
             [
              0.7777777777777778,
              "#fb9f3a"
             ],
             [
              0.8888888888888888,
              "#fdca26"
             ],
             [
              1,
              "#f0f921"
             ]
            ],
            "type": "contour"
           }
          ],
          "contourcarpet": [
           {
            "colorbar": {
             "outlinewidth": 0,
             "ticks": ""
            },
            "type": "contourcarpet"
           }
          ],
          "heatmap": [
           {
            "colorbar": {
             "outlinewidth": 0,
             "ticks": ""
            },
            "colorscale": [
             [
              0,
              "#0d0887"
             ],
             [
              0.1111111111111111,
              "#46039f"
             ],
             [
              0.2222222222222222,
              "#7201a8"
             ],
             [
              0.3333333333333333,
              "#9c179e"
             ],
             [
              0.4444444444444444,
              "#bd3786"
             ],
             [
              0.5555555555555556,
              "#d8576b"
             ],
             [
              0.6666666666666666,
              "#ed7953"
             ],
             [
              0.7777777777777778,
              "#fb9f3a"
             ],
             [
              0.8888888888888888,
              "#fdca26"
             ],
             [
              1,
              "#f0f921"
             ]
            ],
            "type": "heatmap"
           }
          ],
          "histogram": [
           {
            "marker": {
             "pattern": {
              "fillmode": "overlay",
              "size": 10,
              "solidity": 0.2
             }
            },
            "type": "histogram"
           }
          ],
          "histogram2d": [
           {
            "colorbar": {
             "outlinewidth": 0,
             "ticks": ""
            },
            "colorscale": [
             [
              0,
              "#0d0887"
             ],
             [
              0.1111111111111111,
              "#46039f"
             ],
             [
              0.2222222222222222,
              "#7201a8"
             ],
             [
              0.3333333333333333,
              "#9c179e"
             ],
             [
              0.4444444444444444,
              "#bd3786"
             ],
             [
              0.5555555555555556,
              "#d8576b"
             ],
             [
              0.6666666666666666,
              "#ed7953"
             ],
             [
              0.7777777777777778,
              "#fb9f3a"
             ],
             [
              0.8888888888888888,
              "#fdca26"
             ],
             [
              1,
              "#f0f921"
             ]
            ],
            "type": "histogram2d"
           }
          ],
          "histogram2dcontour": [
           {
            "colorbar": {
             "outlinewidth": 0,
             "ticks": ""
            },
            "colorscale": [
             [
              0,
              "#0d0887"
             ],
             [
              0.1111111111111111,
              "#46039f"
             ],
             [
              0.2222222222222222,
              "#7201a8"
             ],
             [
              0.3333333333333333,
              "#9c179e"
             ],
             [
              0.4444444444444444,
              "#bd3786"
             ],
             [
              0.5555555555555556,
              "#d8576b"
             ],
             [
              0.6666666666666666,
              "#ed7953"
             ],
             [
              0.7777777777777778,
              "#fb9f3a"
             ],
             [
              0.8888888888888888,
              "#fdca26"
             ],
             [
              1,
              "#f0f921"
             ]
            ],
            "type": "histogram2dcontour"
           }
          ],
          "mesh3d": [
           {
            "colorbar": {
             "outlinewidth": 0,
             "ticks": ""
            },
            "type": "mesh3d"
           }
          ],
          "parcoords": [
           {
            "line": {
             "colorbar": {
              "outlinewidth": 0,
              "ticks": ""
             }
            },
            "type": "parcoords"
           }
          ],
          "pie": [
           {
            "automargin": true,
            "type": "pie"
           }
          ],
          "scatter": [
           {
            "fillpattern": {
             "fillmode": "overlay",
             "size": 10,
             "solidity": 0.2
            },
            "type": "scatter"
           }
          ],
          "scatter3d": [
           {
            "line": {
             "colorbar": {
              "outlinewidth": 0,
              "ticks": ""
             }
            },
            "marker": {
             "colorbar": {
              "outlinewidth": 0,
              "ticks": ""
             }
            },
            "type": "scatter3d"
           }
          ],
          "scattercarpet": [
           {
            "marker": {
             "colorbar": {
              "outlinewidth": 0,
              "ticks": ""
             }
            },
            "type": "scattercarpet"
           }
          ],
          "scattergeo": [
           {
            "marker": {
             "colorbar": {
              "outlinewidth": 0,
              "ticks": ""
             }
            },
            "type": "scattergeo"
           }
          ],
          "scattergl": [
           {
            "marker": {
             "colorbar": {
              "outlinewidth": 0,
              "ticks": ""
             }
            },
            "type": "scattergl"
           }
          ],
          "scattermap": [
           {
            "marker": {
             "colorbar": {
              "outlinewidth": 0,
              "ticks": ""
             }
            },
            "type": "scattermap"
           }
          ],
          "scattermapbox": [
           {
            "marker": {
             "colorbar": {
              "outlinewidth": 0,
              "ticks": ""
             }
            },
            "type": "scattermapbox"
           }
          ],
          "scatterpolar": [
           {
            "marker": {
             "colorbar": {
              "outlinewidth": 0,
              "ticks": ""
             }
            },
            "type": "scatterpolar"
           }
          ],
          "scatterpolargl": [
           {
            "marker": {
             "colorbar": {
              "outlinewidth": 0,
              "ticks": ""
             }
            },
            "type": "scatterpolargl"
           }
          ],
          "scatterternary": [
           {
            "marker": {
             "colorbar": {
              "outlinewidth": 0,
              "ticks": ""
             }
            },
            "type": "scatterternary"
           }
          ],
          "surface": [
           {
            "colorbar": {
             "outlinewidth": 0,
             "ticks": ""
            },
            "colorscale": [
             [
              0,
              "#0d0887"
             ],
             [
              0.1111111111111111,
              "#46039f"
             ],
             [
              0.2222222222222222,
              "#7201a8"
             ],
             [
              0.3333333333333333,
              "#9c179e"
             ],
             [
              0.4444444444444444,
              "#bd3786"
             ],
             [
              0.5555555555555556,
              "#d8576b"
             ],
             [
              0.6666666666666666,
              "#ed7953"
             ],
             [
              0.7777777777777778,
              "#fb9f3a"
             ],
             [
              0.8888888888888888,
              "#fdca26"
             ],
             [
              1,
              "#f0f921"
             ]
            ],
            "type": "surface"
           }
          ],
          "table": [
           {
            "cells": {
             "fill": {
              "color": "#EBF0F8"
             },
             "line": {
              "color": "white"
             }
            },
            "header": {
             "fill": {
              "color": "#C8D4E3"
             },
             "line": {
              "color": "white"
             }
            },
            "type": "table"
           }
          ]
         },
         "layout": {
          "annotationdefaults": {
           "arrowcolor": "#2a3f5f",
           "arrowhead": 0,
           "arrowwidth": 1
          },
          "autotypenumbers": "strict",
          "coloraxis": {
           "colorbar": {
            "outlinewidth": 0,
            "ticks": ""
           }
          },
          "colorscale": {
           "diverging": [
            [
             0,
             "#8e0152"
            ],
            [
             0.1,
             "#c51b7d"
            ],
            [
             0.2,
             "#de77ae"
            ],
            [
             0.3,
             "#f1b6da"
            ],
            [
             0.4,
             "#fde0ef"
            ],
            [
             0.5,
             "#f7f7f7"
            ],
            [
             0.6,
             "#e6f5d0"
            ],
            [
             0.7,
             "#b8e186"
            ],
            [
             0.8,
             "#7fbc41"
            ],
            [
             0.9,
             "#4d9221"
            ],
            [
             1,
             "#276419"
            ]
           ],
           "sequential": [
            [
             0,
             "#0d0887"
            ],
            [
             0.1111111111111111,
             "#46039f"
            ],
            [
             0.2222222222222222,
             "#7201a8"
            ],
            [
             0.3333333333333333,
             "#9c179e"
            ],
            [
             0.4444444444444444,
             "#bd3786"
            ],
            [
             0.5555555555555556,
             "#d8576b"
            ],
            [
             0.6666666666666666,
             "#ed7953"
            ],
            [
             0.7777777777777778,
             "#fb9f3a"
            ],
            [
             0.8888888888888888,
             "#fdca26"
            ],
            [
             1,
             "#f0f921"
            ]
           ],
           "sequentialminus": [
            [
             0,
             "#0d0887"
            ],
            [
             0.1111111111111111,
             "#46039f"
            ],
            [
             0.2222222222222222,
             "#7201a8"
            ],
            [
             0.3333333333333333,
             "#9c179e"
            ],
            [
             0.4444444444444444,
             "#bd3786"
            ],
            [
             0.5555555555555556,
             "#d8576b"
            ],
            [
             0.6666666666666666,
             "#ed7953"
            ],
            [
             0.7777777777777778,
             "#fb9f3a"
            ],
            [
             0.8888888888888888,
             "#fdca26"
            ],
            [
             1,
             "#f0f921"
            ]
           ]
          },
          "colorway": [
           "#636efa",
           "#EF553B",
           "#00cc96",
           "#ab63fa",
           "#FFA15A",
           "#19d3f3",
           "#FF6692",
           "#B6E880",
           "#FF97FF",
           "#FECB52"
          ],
          "font": {
           "color": "#2a3f5f"
          },
          "geo": {
           "bgcolor": "white",
           "lakecolor": "white",
           "landcolor": "#E5ECF6",
           "showlakes": true,
           "showland": true,
           "subunitcolor": "white"
          },
          "hoverlabel": {
           "align": "left"
          },
          "hovermode": "closest",
          "mapbox": {
           "style": "light"
          },
          "paper_bgcolor": "white",
          "plot_bgcolor": "#E5ECF6",
          "polar": {
           "angularaxis": {
            "gridcolor": "white",
            "linecolor": "white",
            "ticks": ""
           },
           "bgcolor": "#E5ECF6",
           "radialaxis": {
            "gridcolor": "white",
            "linecolor": "white",
            "ticks": ""
           }
          },
          "scene": {
           "xaxis": {
            "backgroundcolor": "#E5ECF6",
            "gridcolor": "white",
            "gridwidth": 2,
            "linecolor": "white",
            "showbackground": true,
            "ticks": "",
            "zerolinecolor": "white"
           },
           "yaxis": {
            "backgroundcolor": "#E5ECF6",
            "gridcolor": "white",
            "gridwidth": 2,
            "linecolor": "white",
            "showbackground": true,
            "ticks": "",
            "zerolinecolor": "white"
           },
           "zaxis": {
            "backgroundcolor": "#E5ECF6",
            "gridcolor": "white",
            "gridwidth": 2,
            "linecolor": "white",
            "showbackground": true,
            "ticks": "",
            "zerolinecolor": "white"
           }
          },
          "shapedefaults": {
           "line": {
            "color": "#2a3f5f"
           }
          },
          "ternary": {
           "aaxis": {
            "gridcolor": "white",
            "linecolor": "white",
            "ticks": ""
           },
           "baxis": {
            "gridcolor": "white",
            "linecolor": "white",
            "ticks": ""
           },
           "bgcolor": "#E5ECF6",
           "caxis": {
            "gridcolor": "white",
            "linecolor": "white",
            "ticks": ""
           }
          },
          "title": {
           "x": 0.05
          },
          "xaxis": {
           "automargin": true,
           "gridcolor": "white",
           "linecolor": "white",
           "ticks": "",
           "title": {
            "standoff": 15
           },
           "zerolinecolor": "white",
           "zerolinewidth": 2
          },
          "yaxis": {
           "automargin": true,
           "gridcolor": "white",
           "linecolor": "white",
           "ticks": "",
           "title": {
            "standoff": 15
           },
           "zerolinecolor": "white",
           "zerolinewidth": 2
          }
         }
        },
        "title": {
         "text": "Распределение дохода по странам"
        },
        "xaxis": {
         "anchor": "y",
         "domain": [
          0,
          1
         ],
         "title": {
          "text": "Страна"
         }
        },
        "yaxis": {
         "anchor": "x",
         "domain": [
          0,
          1
         ],
         "title": {
          "text": "Доход"
         }
        }
       }
      }
     },
     "metadata": {},
     "output_type": "display_data"
    }
   ],
   "source": [
    "\n",
    "query = \"\"\"\n",
    "    select billing_country, total\n",
    "    from invoice\n",
    "\"\"\"\n",
    "\n",
    "with set_connection() as conn:\n",
    "    invoice_df = pd.read_sql(query, conn)\n",
    "\n",
    "fig = px.box(invoice_df, \n",
    "             x='billing_country', \n",
    "             y='total', \n",
    "             title=\"Распределение дохода по странам\",\n",
    "             labels={'billing_country': 'Страна', 'total': 'Доход'})\n",
    "\n",
    "fig.show()\n"
   ]
  },
  {
   "cell_type": "markdown",
   "metadata": {},
   "source": [
    "**Задача 4**\n",
    "На основе данных из таблицы invoice создайте линейчатую диаграмму, показывающую изменение дохода по месяцам за 2025 год."
   ]
  },
  {
   "cell_type": "code",
   "execution_count": null,
   "metadata": {},
   "outputs": [
    {
     "data": {
      "application/vnd.plotly.v1+json": {
       "config": {
        "plotlyServerURL": "https://plot.ly"
       },
       "data": [
        {
         "hovertemplate": "Месяц=%{x}<br>Доход=%{y}<extra></extra>",
         "legendgroup": "",
         "line": {
          "color": "#636efa",
          "dash": "solid"
         },
         "marker": {
          "symbol": "circle"
         },
         "mode": "lines",
         "name": "",
         "orientation": "v",
         "showlegend": false,
         "type": "scatter",
         "x": [
          "January",
          "February",
          "March",
          "April",
          "May",
          "June",
          "July",
          "August",
          "September",
          "October",
          "November",
          "December"
         ],
         "xaxis": "x",
         "y": {
          "bdata": "j8L1KFzPQkC4HoXrUbg7QI/C9Shcz0JAFK5H4XrUQECPwvUoXM9CQI/C9Shcz0JAj8L1KFzPQkCPwvUoXM9CQI/C9Shcz0JAj8L1KFzPQkCPwvUoXM9IQI/C9ShcT0NA",
          "dtype": "f8"
         },
         "yaxis": "y"
        }
       ],
       "layout": {
        "legend": {
         "tracegroupgap": 0
        },
        "template": {
         "data": {
          "bar": [
           {
            "error_x": {
             "color": "#2a3f5f"
            },
            "error_y": {
             "color": "#2a3f5f"
            },
            "marker": {
             "line": {
              "color": "#E5ECF6",
              "width": 0.5
             },
             "pattern": {
              "fillmode": "overlay",
              "size": 10,
              "solidity": 0.2
             }
            },
            "type": "bar"
           }
          ],
          "barpolar": [
           {
            "marker": {
             "line": {
              "color": "#E5ECF6",
              "width": 0.5
             },
             "pattern": {
              "fillmode": "overlay",
              "size": 10,
              "solidity": 0.2
             }
            },
            "type": "barpolar"
           }
          ],
          "carpet": [
           {
            "aaxis": {
             "endlinecolor": "#2a3f5f",
             "gridcolor": "white",
             "linecolor": "white",
             "minorgridcolor": "white",
             "startlinecolor": "#2a3f5f"
            },
            "baxis": {
             "endlinecolor": "#2a3f5f",
             "gridcolor": "white",
             "linecolor": "white",
             "minorgridcolor": "white",
             "startlinecolor": "#2a3f5f"
            },
            "type": "carpet"
           }
          ],
          "choropleth": [
           {
            "colorbar": {
             "outlinewidth": 0,
             "ticks": ""
            },
            "type": "choropleth"
           }
          ],
          "contour": [
           {
            "colorbar": {
             "outlinewidth": 0,
             "ticks": ""
            },
            "colorscale": [
             [
              0,
              "#0d0887"
             ],
             [
              0.1111111111111111,
              "#46039f"
             ],
             [
              0.2222222222222222,
              "#7201a8"
             ],
             [
              0.3333333333333333,
              "#9c179e"
             ],
             [
              0.4444444444444444,
              "#bd3786"
             ],
             [
              0.5555555555555556,
              "#d8576b"
             ],
             [
              0.6666666666666666,
              "#ed7953"
             ],
             [
              0.7777777777777778,
              "#fb9f3a"
             ],
             [
              0.8888888888888888,
              "#fdca26"
             ],
             [
              1,
              "#f0f921"
             ]
            ],
            "type": "contour"
           }
          ],
          "contourcarpet": [
           {
            "colorbar": {
             "outlinewidth": 0,
             "ticks": ""
            },
            "type": "contourcarpet"
           }
          ],
          "heatmap": [
           {
            "colorbar": {
             "outlinewidth": 0,
             "ticks": ""
            },
            "colorscale": [
             [
              0,
              "#0d0887"
             ],
             [
              0.1111111111111111,
              "#46039f"
             ],
             [
              0.2222222222222222,
              "#7201a8"
             ],
             [
              0.3333333333333333,
              "#9c179e"
             ],
             [
              0.4444444444444444,
              "#bd3786"
             ],
             [
              0.5555555555555556,
              "#d8576b"
             ],
             [
              0.6666666666666666,
              "#ed7953"
             ],
             [
              0.7777777777777778,
              "#fb9f3a"
             ],
             [
              0.8888888888888888,
              "#fdca26"
             ],
             [
              1,
              "#f0f921"
             ]
            ],
            "type": "heatmap"
           }
          ],
          "histogram": [
           {
            "marker": {
             "pattern": {
              "fillmode": "overlay",
              "size": 10,
              "solidity": 0.2
             }
            },
            "type": "histogram"
           }
          ],
          "histogram2d": [
           {
            "colorbar": {
             "outlinewidth": 0,
             "ticks": ""
            },
            "colorscale": [
             [
              0,
              "#0d0887"
             ],
             [
              0.1111111111111111,
              "#46039f"
             ],
             [
              0.2222222222222222,
              "#7201a8"
             ],
             [
              0.3333333333333333,
              "#9c179e"
             ],
             [
              0.4444444444444444,
              "#bd3786"
             ],
             [
              0.5555555555555556,
              "#d8576b"
             ],
             [
              0.6666666666666666,
              "#ed7953"
             ],
             [
              0.7777777777777778,
              "#fb9f3a"
             ],
             [
              0.8888888888888888,
              "#fdca26"
             ],
             [
              1,
              "#f0f921"
             ]
            ],
            "type": "histogram2d"
           }
          ],
          "histogram2dcontour": [
           {
            "colorbar": {
             "outlinewidth": 0,
             "ticks": ""
            },
            "colorscale": [
             [
              0,
              "#0d0887"
             ],
             [
              0.1111111111111111,
              "#46039f"
             ],
             [
              0.2222222222222222,
              "#7201a8"
             ],
             [
              0.3333333333333333,
              "#9c179e"
             ],
             [
              0.4444444444444444,
              "#bd3786"
             ],
             [
              0.5555555555555556,
              "#d8576b"
             ],
             [
              0.6666666666666666,
              "#ed7953"
             ],
             [
              0.7777777777777778,
              "#fb9f3a"
             ],
             [
              0.8888888888888888,
              "#fdca26"
             ],
             [
              1,
              "#f0f921"
             ]
            ],
            "type": "histogram2dcontour"
           }
          ],
          "mesh3d": [
           {
            "colorbar": {
             "outlinewidth": 0,
             "ticks": ""
            },
            "type": "mesh3d"
           }
          ],
          "parcoords": [
           {
            "line": {
             "colorbar": {
              "outlinewidth": 0,
              "ticks": ""
             }
            },
            "type": "parcoords"
           }
          ],
          "pie": [
           {
            "automargin": true,
            "type": "pie"
           }
          ],
          "scatter": [
           {
            "fillpattern": {
             "fillmode": "overlay",
             "size": 10,
             "solidity": 0.2
            },
            "type": "scatter"
           }
          ],
          "scatter3d": [
           {
            "line": {
             "colorbar": {
              "outlinewidth": 0,
              "ticks": ""
             }
            },
            "marker": {
             "colorbar": {
              "outlinewidth": 0,
              "ticks": ""
             }
            },
            "type": "scatter3d"
           }
          ],
          "scattercarpet": [
           {
            "marker": {
             "colorbar": {
              "outlinewidth": 0,
              "ticks": ""
             }
            },
            "type": "scattercarpet"
           }
          ],
          "scattergeo": [
           {
            "marker": {
             "colorbar": {
              "outlinewidth": 0,
              "ticks": ""
             }
            },
            "type": "scattergeo"
           }
          ],
          "scattergl": [
           {
            "marker": {
             "colorbar": {
              "outlinewidth": 0,
              "ticks": ""
             }
            },
            "type": "scattergl"
           }
          ],
          "scattermap": [
           {
            "marker": {
             "colorbar": {
              "outlinewidth": 0,
              "ticks": ""
             }
            },
            "type": "scattermap"
           }
          ],
          "scattermapbox": [
           {
            "marker": {
             "colorbar": {
              "outlinewidth": 0,
              "ticks": ""
             }
            },
            "type": "scattermapbox"
           }
          ],
          "scatterpolar": [
           {
            "marker": {
             "colorbar": {
              "outlinewidth": 0,
              "ticks": ""
             }
            },
            "type": "scatterpolar"
           }
          ],
          "scatterpolargl": [
           {
            "marker": {
             "colorbar": {
              "outlinewidth": 0,
              "ticks": ""
             }
            },
            "type": "scatterpolargl"
           }
          ],
          "scatterternary": [
           {
            "marker": {
             "colorbar": {
              "outlinewidth": 0,
              "ticks": ""
             }
            },
            "type": "scatterternary"
           }
          ],
          "surface": [
           {
            "colorbar": {
             "outlinewidth": 0,
             "ticks": ""
            },
            "colorscale": [
             [
              0,
              "#0d0887"
             ],
             [
              0.1111111111111111,
              "#46039f"
             ],
             [
              0.2222222222222222,
              "#7201a8"
             ],
             [
              0.3333333333333333,
              "#9c179e"
             ],
             [
              0.4444444444444444,
              "#bd3786"
             ],
             [
              0.5555555555555556,
              "#d8576b"
             ],
             [
              0.6666666666666666,
              "#ed7953"
             ],
             [
              0.7777777777777778,
              "#fb9f3a"
             ],
             [
              0.8888888888888888,
              "#fdca26"
             ],
             [
              1,
              "#f0f921"
             ]
            ],
            "type": "surface"
           }
          ],
          "table": [
           {
            "cells": {
             "fill": {
              "color": "#EBF0F8"
             },
             "line": {
              "color": "white"
             }
            },
            "header": {
             "fill": {
              "color": "#C8D4E3"
             },
             "line": {
              "color": "white"
             }
            },
            "type": "table"
           }
          ]
         },
         "layout": {
          "annotationdefaults": {
           "arrowcolor": "#2a3f5f",
           "arrowhead": 0,
           "arrowwidth": 1
          },
          "autotypenumbers": "strict",
          "coloraxis": {
           "colorbar": {
            "outlinewidth": 0,
            "ticks": ""
           }
          },
          "colorscale": {
           "diverging": [
            [
             0,
             "#8e0152"
            ],
            [
             0.1,
             "#c51b7d"
            ],
            [
             0.2,
             "#de77ae"
            ],
            [
             0.3,
             "#f1b6da"
            ],
            [
             0.4,
             "#fde0ef"
            ],
            [
             0.5,
             "#f7f7f7"
            ],
            [
             0.6,
             "#e6f5d0"
            ],
            [
             0.7,
             "#b8e186"
            ],
            [
             0.8,
             "#7fbc41"
            ],
            [
             0.9,
             "#4d9221"
            ],
            [
             1,
             "#276419"
            ]
           ],
           "sequential": [
            [
             0,
             "#0d0887"
            ],
            [
             0.1111111111111111,
             "#46039f"
            ],
            [
             0.2222222222222222,
             "#7201a8"
            ],
            [
             0.3333333333333333,
             "#9c179e"
            ],
            [
             0.4444444444444444,
             "#bd3786"
            ],
            [
             0.5555555555555556,
             "#d8576b"
            ],
            [
             0.6666666666666666,
             "#ed7953"
            ],
            [
             0.7777777777777778,
             "#fb9f3a"
            ],
            [
             0.8888888888888888,
             "#fdca26"
            ],
            [
             1,
             "#f0f921"
            ]
           ],
           "sequentialminus": [
            [
             0,
             "#0d0887"
            ],
            [
             0.1111111111111111,
             "#46039f"
            ],
            [
             0.2222222222222222,
             "#7201a8"
            ],
            [
             0.3333333333333333,
             "#9c179e"
            ],
            [
             0.4444444444444444,
             "#bd3786"
            ],
            [
             0.5555555555555556,
             "#d8576b"
            ],
            [
             0.6666666666666666,
             "#ed7953"
            ],
            [
             0.7777777777777778,
             "#fb9f3a"
            ],
            [
             0.8888888888888888,
             "#fdca26"
            ],
            [
             1,
             "#f0f921"
            ]
           ]
          },
          "colorway": [
           "#636efa",
           "#EF553B",
           "#00cc96",
           "#ab63fa",
           "#FFA15A",
           "#19d3f3",
           "#FF6692",
           "#B6E880",
           "#FF97FF",
           "#FECB52"
          ],
          "font": {
           "color": "#2a3f5f"
          },
          "geo": {
           "bgcolor": "white",
           "lakecolor": "white",
           "landcolor": "#E5ECF6",
           "showlakes": true,
           "showland": true,
           "subunitcolor": "white"
          },
          "hoverlabel": {
           "align": "left"
          },
          "hovermode": "closest",
          "mapbox": {
           "style": "light"
          },
          "paper_bgcolor": "white",
          "plot_bgcolor": "#E5ECF6",
          "polar": {
           "angularaxis": {
            "gridcolor": "white",
            "linecolor": "white",
            "ticks": ""
           },
           "bgcolor": "#E5ECF6",
           "radialaxis": {
            "gridcolor": "white",
            "linecolor": "white",
            "ticks": ""
           }
          },
          "scene": {
           "xaxis": {
            "backgroundcolor": "#E5ECF6",
            "gridcolor": "white",
            "gridwidth": 2,
            "linecolor": "white",
            "showbackground": true,
            "ticks": "",
            "zerolinecolor": "white"
           },
           "yaxis": {
            "backgroundcolor": "#E5ECF6",
            "gridcolor": "white",
            "gridwidth": 2,
            "linecolor": "white",
            "showbackground": true,
            "ticks": "",
            "zerolinecolor": "white"
           },
           "zaxis": {
            "backgroundcolor": "#E5ECF6",
            "gridcolor": "white",
            "gridwidth": 2,
            "linecolor": "white",
            "showbackground": true,
            "ticks": "",
            "zerolinecolor": "white"
           }
          },
          "shapedefaults": {
           "line": {
            "color": "#2a3f5f"
           }
          },
          "ternary": {
           "aaxis": {
            "gridcolor": "white",
            "linecolor": "white",
            "ticks": ""
           },
           "baxis": {
            "gridcolor": "white",
            "linecolor": "white",
            "ticks": ""
           },
           "bgcolor": "#E5ECF6",
           "caxis": {
            "gridcolor": "white",
            "linecolor": "white",
            "ticks": ""
           }
          },
          "title": {
           "x": 0.05
          },
          "xaxis": {
           "automargin": true,
           "gridcolor": "white",
           "linecolor": "white",
           "ticks": "",
           "title": {
            "standoff": 15
           },
           "zerolinecolor": "white",
           "zerolinewidth": 2
          },
          "yaxis": {
           "automargin": true,
           "gridcolor": "white",
           "linecolor": "white",
           "ticks": "",
           "title": {
            "standoff": 15
           },
           "zerolinecolor": "white",
           "zerolinewidth": 2
          }
         }
        },
        "title": {
         "text": "Изменение дохода по месяцам за 2025 год"
        },
        "xaxis": {
         "anchor": "y",
         "domain": [
          0,
          1
         ],
         "title": {
          "text": "Месяц"
         }
        },
        "yaxis": {
         "anchor": "x",
         "domain": [
          0,
          1
         ],
         "title": {
          "text": "Доход"
         }
        }
       }
      }
     },
     "metadata": {},
     "output_type": "display_data"
    }
   ],
   "source": [
    "\n",
    "query = \"\"\"\n",
    "    select invoice_date, total\n",
    "    from invoice\n",
    "\"\"\"\n",
    "\n",
    "with set_connection() as conn:\n",
    "    invoice_df = pd.read_sql(query, conn)\n",
    "\n",
    "invoice_df['invoice_date'] = pd.to_datetime(invoice_df['invoice_date'], format='%Y-%m-%d %H:%M:%S.%f')\n",
    "\n",
    "invoice_df['year'] = invoice_df['invoice_date'].dt.year\n",
    "invoice_df['month'] = invoice_df['invoice_date'].dt.month\n",
    "invoice_2025_df = invoice_df[invoice_df['year'] == 2025]\n",
    "\n",
    "monthly_income_df = invoice_2025_df.groupby('month')['total'].sum().reset_index()\n",
    "monthly_income_df['month'] = monthly_income_df['month'].apply(lambda x: pd.to_datetime(f'2025-{x}-01').strftime('%B'))\n",
    "\n",
    "fig = px.line(monthly_income_df,\n",
    "               x='month', \n",
    "               y='total',\n",
    "               title=\"Изменение дохода по месяцам за 2025 год\",\n",
    "              labels={'month': 'Месяц', 'total': 'Доход'})\n",
    "\n",
    "fig.show()\n",
    "\n"
   ]
  },
  {
   "cell_type": "markdown",
   "metadata": {},
   "source": [
    "**Задача 5**\n",
    "На основе данных из таблицы invoice, создайте круговую диаграмму, показывающую соотношение продаж в США и в остальном мире. Т.е. ваша круговая диаграмма должна состоять лишь из двух секций: США и остальной мир."
   ]
  },
  {
   "cell_type": "code",
   "execution_count": null,
   "metadata": {},
   "outputs": [
    {
     "data": {
      "application/vnd.plotly.v1+json": {
       "config": {
        "plotlyServerURL": "https://plot.ly"
       },
       "data": [
        {
         "domain": {
          "x": [
           0,
           1
          ],
          "y": [
           0,
           1
          ]
         },
         "hovertemplate": "region=%{label}<br>total=%{value}<extra></extra>",
         "labels": [
          "Остальной мир",
          "США"
         ],
         "legendgroup": "",
         "name": "",
         "showlegend": true,
         "type": "pie",
         "values": {
          "bdata": "XI/C9Sg2nEAUrkfheliAQA==",
          "dtype": "f8"
         }
        }
       ],
       "layout": {
        "legend": {
         "tracegroupgap": 0
        },
        "template": {
         "data": {
          "bar": [
           {
            "error_x": {
             "color": "#2a3f5f"
            },
            "error_y": {
             "color": "#2a3f5f"
            },
            "marker": {
             "line": {
              "color": "#E5ECF6",
              "width": 0.5
             },
             "pattern": {
              "fillmode": "overlay",
              "size": 10,
              "solidity": 0.2
             }
            },
            "type": "bar"
           }
          ],
          "barpolar": [
           {
            "marker": {
             "line": {
              "color": "#E5ECF6",
              "width": 0.5
             },
             "pattern": {
              "fillmode": "overlay",
              "size": 10,
              "solidity": 0.2
             }
            },
            "type": "barpolar"
           }
          ],
          "carpet": [
           {
            "aaxis": {
             "endlinecolor": "#2a3f5f",
             "gridcolor": "white",
             "linecolor": "white",
             "minorgridcolor": "white",
             "startlinecolor": "#2a3f5f"
            },
            "baxis": {
             "endlinecolor": "#2a3f5f",
             "gridcolor": "white",
             "linecolor": "white",
             "minorgridcolor": "white",
             "startlinecolor": "#2a3f5f"
            },
            "type": "carpet"
           }
          ],
          "choropleth": [
           {
            "colorbar": {
             "outlinewidth": 0,
             "ticks": ""
            },
            "type": "choropleth"
           }
          ],
          "contour": [
           {
            "colorbar": {
             "outlinewidth": 0,
             "ticks": ""
            },
            "colorscale": [
             [
              0,
              "#0d0887"
             ],
             [
              0.1111111111111111,
              "#46039f"
             ],
             [
              0.2222222222222222,
              "#7201a8"
             ],
             [
              0.3333333333333333,
              "#9c179e"
             ],
             [
              0.4444444444444444,
              "#bd3786"
             ],
             [
              0.5555555555555556,
              "#d8576b"
             ],
             [
              0.6666666666666666,
              "#ed7953"
             ],
             [
              0.7777777777777778,
              "#fb9f3a"
             ],
             [
              0.8888888888888888,
              "#fdca26"
             ],
             [
              1,
              "#f0f921"
             ]
            ],
            "type": "contour"
           }
          ],
          "contourcarpet": [
           {
            "colorbar": {
             "outlinewidth": 0,
             "ticks": ""
            },
            "type": "contourcarpet"
           }
          ],
          "heatmap": [
           {
            "colorbar": {
             "outlinewidth": 0,
             "ticks": ""
            },
            "colorscale": [
             [
              0,
              "#0d0887"
             ],
             [
              0.1111111111111111,
              "#46039f"
             ],
             [
              0.2222222222222222,
              "#7201a8"
             ],
             [
              0.3333333333333333,
              "#9c179e"
             ],
             [
              0.4444444444444444,
              "#bd3786"
             ],
             [
              0.5555555555555556,
              "#d8576b"
             ],
             [
              0.6666666666666666,
              "#ed7953"
             ],
             [
              0.7777777777777778,
              "#fb9f3a"
             ],
             [
              0.8888888888888888,
              "#fdca26"
             ],
             [
              1,
              "#f0f921"
             ]
            ],
            "type": "heatmap"
           }
          ],
          "histogram": [
           {
            "marker": {
             "pattern": {
              "fillmode": "overlay",
              "size": 10,
              "solidity": 0.2
             }
            },
            "type": "histogram"
           }
          ],
          "histogram2d": [
           {
            "colorbar": {
             "outlinewidth": 0,
             "ticks": ""
            },
            "colorscale": [
             [
              0,
              "#0d0887"
             ],
             [
              0.1111111111111111,
              "#46039f"
             ],
             [
              0.2222222222222222,
              "#7201a8"
             ],
             [
              0.3333333333333333,
              "#9c179e"
             ],
             [
              0.4444444444444444,
              "#bd3786"
             ],
             [
              0.5555555555555556,
              "#d8576b"
             ],
             [
              0.6666666666666666,
              "#ed7953"
             ],
             [
              0.7777777777777778,
              "#fb9f3a"
             ],
             [
              0.8888888888888888,
              "#fdca26"
             ],
             [
              1,
              "#f0f921"
             ]
            ],
            "type": "histogram2d"
           }
          ],
          "histogram2dcontour": [
           {
            "colorbar": {
             "outlinewidth": 0,
             "ticks": ""
            },
            "colorscale": [
             [
              0,
              "#0d0887"
             ],
             [
              0.1111111111111111,
              "#46039f"
             ],
             [
              0.2222222222222222,
              "#7201a8"
             ],
             [
              0.3333333333333333,
              "#9c179e"
             ],
             [
              0.4444444444444444,
              "#bd3786"
             ],
             [
              0.5555555555555556,
              "#d8576b"
             ],
             [
              0.6666666666666666,
              "#ed7953"
             ],
             [
              0.7777777777777778,
              "#fb9f3a"
             ],
             [
              0.8888888888888888,
              "#fdca26"
             ],
             [
              1,
              "#f0f921"
             ]
            ],
            "type": "histogram2dcontour"
           }
          ],
          "mesh3d": [
           {
            "colorbar": {
             "outlinewidth": 0,
             "ticks": ""
            },
            "type": "mesh3d"
           }
          ],
          "parcoords": [
           {
            "line": {
             "colorbar": {
              "outlinewidth": 0,
              "ticks": ""
             }
            },
            "type": "parcoords"
           }
          ],
          "pie": [
           {
            "automargin": true,
            "type": "pie"
           }
          ],
          "scatter": [
           {
            "fillpattern": {
             "fillmode": "overlay",
             "size": 10,
             "solidity": 0.2
            },
            "type": "scatter"
           }
          ],
          "scatter3d": [
           {
            "line": {
             "colorbar": {
              "outlinewidth": 0,
              "ticks": ""
             }
            },
            "marker": {
             "colorbar": {
              "outlinewidth": 0,
              "ticks": ""
             }
            },
            "type": "scatter3d"
           }
          ],
          "scattercarpet": [
           {
            "marker": {
             "colorbar": {
              "outlinewidth": 0,
              "ticks": ""
             }
            },
            "type": "scattercarpet"
           }
          ],
          "scattergeo": [
           {
            "marker": {
             "colorbar": {
              "outlinewidth": 0,
              "ticks": ""
             }
            },
            "type": "scattergeo"
           }
          ],
          "scattergl": [
           {
            "marker": {
             "colorbar": {
              "outlinewidth": 0,
              "ticks": ""
             }
            },
            "type": "scattergl"
           }
          ],
          "scattermap": [
           {
            "marker": {
             "colorbar": {
              "outlinewidth": 0,
              "ticks": ""
             }
            },
            "type": "scattermap"
           }
          ],
          "scattermapbox": [
           {
            "marker": {
             "colorbar": {
              "outlinewidth": 0,
              "ticks": ""
             }
            },
            "type": "scattermapbox"
           }
          ],
          "scatterpolar": [
           {
            "marker": {
             "colorbar": {
              "outlinewidth": 0,
              "ticks": ""
             }
            },
            "type": "scatterpolar"
           }
          ],
          "scatterpolargl": [
           {
            "marker": {
             "colorbar": {
              "outlinewidth": 0,
              "ticks": ""
             }
            },
            "type": "scatterpolargl"
           }
          ],
          "scatterternary": [
           {
            "marker": {
             "colorbar": {
              "outlinewidth": 0,
              "ticks": ""
             }
            },
            "type": "scatterternary"
           }
          ],
          "surface": [
           {
            "colorbar": {
             "outlinewidth": 0,
             "ticks": ""
            },
            "colorscale": [
             [
              0,
              "#0d0887"
             ],
             [
              0.1111111111111111,
              "#46039f"
             ],
             [
              0.2222222222222222,
              "#7201a8"
             ],
             [
              0.3333333333333333,
              "#9c179e"
             ],
             [
              0.4444444444444444,
              "#bd3786"
             ],
             [
              0.5555555555555556,
              "#d8576b"
             ],
             [
              0.6666666666666666,
              "#ed7953"
             ],
             [
              0.7777777777777778,
              "#fb9f3a"
             ],
             [
              0.8888888888888888,
              "#fdca26"
             ],
             [
              1,
              "#f0f921"
             ]
            ],
            "type": "surface"
           }
          ],
          "table": [
           {
            "cells": {
             "fill": {
              "color": "#EBF0F8"
             },
             "line": {
              "color": "white"
             }
            },
            "header": {
             "fill": {
              "color": "#C8D4E3"
             },
             "line": {
              "color": "white"
             }
            },
            "type": "table"
           }
          ]
         },
         "layout": {
          "annotationdefaults": {
           "arrowcolor": "#2a3f5f",
           "arrowhead": 0,
           "arrowwidth": 1
          },
          "autotypenumbers": "strict",
          "coloraxis": {
           "colorbar": {
            "outlinewidth": 0,
            "ticks": ""
           }
          },
          "colorscale": {
           "diverging": [
            [
             0,
             "#8e0152"
            ],
            [
             0.1,
             "#c51b7d"
            ],
            [
             0.2,
             "#de77ae"
            ],
            [
             0.3,
             "#f1b6da"
            ],
            [
             0.4,
             "#fde0ef"
            ],
            [
             0.5,
             "#f7f7f7"
            ],
            [
             0.6,
             "#e6f5d0"
            ],
            [
             0.7,
             "#b8e186"
            ],
            [
             0.8,
             "#7fbc41"
            ],
            [
             0.9,
             "#4d9221"
            ],
            [
             1,
             "#276419"
            ]
           ],
           "sequential": [
            [
             0,
             "#0d0887"
            ],
            [
             0.1111111111111111,
             "#46039f"
            ],
            [
             0.2222222222222222,
             "#7201a8"
            ],
            [
             0.3333333333333333,
             "#9c179e"
            ],
            [
             0.4444444444444444,
             "#bd3786"
            ],
            [
             0.5555555555555556,
             "#d8576b"
            ],
            [
             0.6666666666666666,
             "#ed7953"
            ],
            [
             0.7777777777777778,
             "#fb9f3a"
            ],
            [
             0.8888888888888888,
             "#fdca26"
            ],
            [
             1,
             "#f0f921"
            ]
           ],
           "sequentialminus": [
            [
             0,
             "#0d0887"
            ],
            [
             0.1111111111111111,
             "#46039f"
            ],
            [
             0.2222222222222222,
             "#7201a8"
            ],
            [
             0.3333333333333333,
             "#9c179e"
            ],
            [
             0.4444444444444444,
             "#bd3786"
            ],
            [
             0.5555555555555556,
             "#d8576b"
            ],
            [
             0.6666666666666666,
             "#ed7953"
            ],
            [
             0.7777777777777778,
             "#fb9f3a"
            ],
            [
             0.8888888888888888,
             "#fdca26"
            ],
            [
             1,
             "#f0f921"
            ]
           ]
          },
          "colorway": [
           "#636efa",
           "#EF553B",
           "#00cc96",
           "#ab63fa",
           "#FFA15A",
           "#19d3f3",
           "#FF6692",
           "#B6E880",
           "#FF97FF",
           "#FECB52"
          ],
          "font": {
           "color": "#2a3f5f"
          },
          "geo": {
           "bgcolor": "white",
           "lakecolor": "white",
           "landcolor": "#E5ECF6",
           "showlakes": true,
           "showland": true,
           "subunitcolor": "white"
          },
          "hoverlabel": {
           "align": "left"
          },
          "hovermode": "closest",
          "mapbox": {
           "style": "light"
          },
          "paper_bgcolor": "white",
          "plot_bgcolor": "#E5ECF6",
          "polar": {
           "angularaxis": {
            "gridcolor": "white",
            "linecolor": "white",
            "ticks": ""
           },
           "bgcolor": "#E5ECF6",
           "radialaxis": {
            "gridcolor": "white",
            "linecolor": "white",
            "ticks": ""
           }
          },
          "scene": {
           "xaxis": {
            "backgroundcolor": "#E5ECF6",
            "gridcolor": "white",
            "gridwidth": 2,
            "linecolor": "white",
            "showbackground": true,
            "ticks": "",
            "zerolinecolor": "white"
           },
           "yaxis": {
            "backgroundcolor": "#E5ECF6",
            "gridcolor": "white",
            "gridwidth": 2,
            "linecolor": "white",
            "showbackground": true,
            "ticks": "",
            "zerolinecolor": "white"
           },
           "zaxis": {
            "backgroundcolor": "#E5ECF6",
            "gridcolor": "white",
            "gridwidth": 2,
            "linecolor": "white",
            "showbackground": true,
            "ticks": "",
            "zerolinecolor": "white"
           }
          },
          "shapedefaults": {
           "line": {
            "color": "#2a3f5f"
           }
          },
          "ternary": {
           "aaxis": {
            "gridcolor": "white",
            "linecolor": "white",
            "ticks": ""
           },
           "baxis": {
            "gridcolor": "white",
            "linecolor": "white",
            "ticks": ""
           },
           "bgcolor": "#E5ECF6",
           "caxis": {
            "gridcolor": "white",
            "linecolor": "white",
            "ticks": ""
           }
          },
          "title": {
           "x": 0.05
          },
          "xaxis": {
           "automargin": true,
           "gridcolor": "white",
           "linecolor": "white",
           "ticks": "",
           "title": {
            "standoff": 15
           },
           "zerolinecolor": "white",
           "zerolinewidth": 2
          },
          "yaxis": {
           "automargin": true,
           "gridcolor": "white",
           "linecolor": "white",
           "ticks": "",
           "title": {
            "standoff": 15
           },
           "zerolinecolor": "white",
           "zerolinewidth": 2
          }
         }
        },
        "title": {
         "text": "Соотношение продаж в США и остальном мире"
        }
       }
      }
     },
     "metadata": {},
     "output_type": "display_data"
    }
   ],
   "source": [
    "\n",
    "query = \"\"\"\n",
    "    select billing_country, total\n",
    "    from invoice\n",
    "\"\"\"\n",
    "with set_connection() as conn:\n",
    "    invoice_df = pd.read_sql(query, conn)\n",
    "\n",
    "country_income_df = invoice_df.groupby('billing_country')['total'].sum().reset_index()\n",
    "country_income_df['region'] = country_income_df['billing_country'].apply(lambda x: 'США' if x == 'USA' else 'Остальной мир')\n",
    "region_income_df = country_income_df.groupby('region')['total'].sum().reset_index()\n",
    "fig = px.pie(region_income_df,\n",
    "             names='region', \n",
    "             values='total', \n",
    "             title=\"Соотношение продаж в США и остальном мире\")\n",
    "\n",
    "fig.show()\n",
    "\n",
    "\n"
   ]
  }
 ],
 "metadata": {
  "kernelspec": {
   "display_name": ".venv",
   "language": "python",
   "name": "python3"
  },
  "language_info": {
   "codemirror_mode": {
    "name": "ipython",
    "version": 3
   },
   "file_extension": ".py",
   "mimetype": "text/x-python",
   "name": "python",
   "nbconvert_exporter": "python",
   "pygments_lexer": "ipython3",
   "version": "3.13.2"
  }
 },
 "nbformat": 4,
 "nbformat_minor": 2
}
