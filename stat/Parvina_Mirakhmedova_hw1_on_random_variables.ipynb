{
 "cells": [
  {
   "cell_type": "markdown",
   "id": "d2caff3b-1192-4b9e-b1bb-ef4fbc41070d",
   "metadata": {},
   "source": [
    "Домашнее задание по дискретным случайным величинам\n",
    "Испонитель: Мирахмедова Парвина"
   ]
  },
  {
   "cell_type": "markdown",
   "id": "373053cd-afe7-4038-b888-5b9ccac195b7",
   "metadata": {},
   "source": [
    "**Задача1**\n",
    "Четыре монеты подбрасываются разом. Если переменная X это количество полученных орлов, то чему равен P(X=2)"
   ]
  },
  {
   "cell_type": "code",
   "execution_count": 2,
   "id": "370fcc0f-c285-4403-8abe-0ccd42e65c36",
   "metadata": {},
   "outputs": [
    {
     "data": {
      "text/plain": [
       "{0: 1.0, 1: 4.0, 2: 6.0, 3: 4.0}"
      ]
     },
     "execution_count": 2,
     "metadata": {},
     "output_type": "execute_result"
    }
   ],
   "source": [
    "\n",
    "from math import factorial\n",
    "\n",
    "num_of_sides = 2\n",
    "num_of_coins=4\n",
    "\n",
    "num_of_possible_outcomes = num_of_sides ** num_of_coins\n",
    "\n",
    "num_of_combinations = {}\n",
    "\n",
    "def count_combinations(k, n=num_of_coins):\n",
    "  nominator = factorial(n)\n",
    "  denominator = factorial(k) * factorial(n-k)\n",
    "  res = nominator / denominator\n",
    "  return res\n",
    "\n",
    "for x in range(4):\n",
    "  num_of_combinations[x] = count_combinations(x)\n",
    "\n",
    "num_of_combinations"
   ]
  },
  {
   "cell_type": "code",
   "execution_count": 3,
   "id": "6adff3e9-1613-4e47-8d72-73261d14f225",
   "metadata": {},
   "outputs": [],
   "source": [
    "import pandas as pd\n",
    "\n",
    "df = pd.DataFrame({\n",
    "    'head': num_of_combinations.keys(),\n",
    "    'frequency': num_of_combinations.values()\n",
    "}).assign(probability = lambda d_: d_['frequency']/num_of_possible_outcomes)"
   ]
  },
  {
   "cell_type": "code",
   "execution_count": 4,
   "id": "d21572c6-5024-4044-9ad8-5f2b748a8994",
   "metadata": {},
   "outputs": [
    {
     "data": {
      "text/html": [
       "<div>\n",
       "<style scoped>\n",
       "    .dataframe tbody tr th:only-of-type {\n",
       "        vertical-align: middle;\n",
       "    }\n",
       "\n",
       "    .dataframe tbody tr th {\n",
       "        vertical-align: top;\n",
       "    }\n",
       "\n",
       "    .dataframe thead th {\n",
       "        text-align: right;\n",
       "    }\n",
       "</style>\n",
       "<table border=\"1\" class=\"dataframe\">\n",
       "  <thead>\n",
       "    <tr style=\"text-align: right;\">\n",
       "      <th></th>\n",
       "      <th>head</th>\n",
       "      <th>frequency</th>\n",
       "      <th>probability</th>\n",
       "    </tr>\n",
       "  </thead>\n",
       "  <tbody>\n",
       "    <tr>\n",
       "      <th>0</th>\n",
       "      <td>0</td>\n",
       "      <td>1.0</td>\n",
       "      <td>0.0625</td>\n",
       "    </tr>\n",
       "    <tr>\n",
       "      <th>1</th>\n",
       "      <td>1</td>\n",
       "      <td>4.0</td>\n",
       "      <td>0.2500</td>\n",
       "    </tr>\n",
       "    <tr>\n",
       "      <th>2</th>\n",
       "      <td>2</td>\n",
       "      <td>6.0</td>\n",
       "      <td>0.3750</td>\n",
       "    </tr>\n",
       "    <tr>\n",
       "      <th>3</th>\n",
       "      <td>3</td>\n",
       "      <td>4.0</td>\n",
       "      <td>0.2500</td>\n",
       "    </tr>\n",
       "  </tbody>\n",
       "</table>\n",
       "</div>"
      ],
      "text/plain": [
       "   head  frequency  probability\n",
       "0     0        1.0       0.0625\n",
       "1     1        4.0       0.2500\n",
       "2     2        6.0       0.3750\n",
       "3     3        4.0       0.2500"
      ]
     },
     "execution_count": 4,
     "metadata": {},
     "output_type": "execute_result"
    }
   ],
   "source": [
    "df"
   ]
  },
  {
   "cell_type": "code",
   "execution_count": 11,
   "id": "fa5252b6-2583-4be5-b9cd-e39ee03e53fa",
   "metadata": {},
   "outputs": [
    {
     "name": "stdout",
     "output_type": "stream",
     "text": [
      "Probability, где head = 2: 0.375\n"
     ]
    }
   ],
   "source": [
    "probability_head_2 = df.loc[df['head'] == 2, 'probability'].values[0]\n",
    "\n",
    "print(f\"Probability, где head = 2: {probability_head_2}\")"
   ]
  },
  {
   "cell_type": "markdown",
   "id": "d8aed1fb-fee2-4010-8dd5-42b2f90fa00b",
   "metadata": {},
   "source": [
    "**Задача2**\n",
    "Четыре монеты подбрасываются разом. Если переменная X это количество полученных орлов, то чему равен P(X≥1)?\n"
   ]
  },
  {
   "cell_type": "code",
   "execution_count": 8,
   "id": "fbd2e179-d886-44dd-9ace-7e6613000c8c",
   "metadata": {},
   "outputs": [
    {
     "name": "stdout",
     "output_type": "stream",
     "text": [
      "Сумма probability для head >= 1: 0.875\n"
     ]
    }
   ],
   "source": [
    "filtered_df = df[df['head'] >= 1]\n",
    "probability_sum = filtered_df['probability'].sum()\n",
    "print(f\"Сумма probability для head >= 1: {probability_sum}\")"
   ]
  },
  {
   "cell_type": "markdown",
   "id": "f4595d1d-f766-49c6-a490-bffda28b8604",
   "metadata": {},
   "source": [
    "**Задача3**\n",
    "Вероятность того, что у рандомного человека группа крови А составляет 40%. Выберем случайным образом 4 человек и пусть случайная величина X будет количеством людей с типом крови А. Постройте биномиальное распределение этого эксперимента."
   ]
  },
  {
   "cell_type": "code",
   "execution_count": 16,
   "id": "6cf3bf18-40a6-4a7c-9aae-754bb23859eb",
   "metadata": {},
   "outputs": [
    {
     "name": "stdout",
     "output_type": "stream",
     "text": [
      "   X  Probability\n",
      "0  0       0.1296\n",
      "1  1       0.3456\n",
      "2  2       0.3456\n",
      "3  3       0.1536\n",
      "4  4       0.0256\n"
     ]
    }
   ],
   "source": [
    "from math import factorial\n",
    "import pandas as pd\n",
    "\n",
    "n = 4  \n",
    "p = 0.4\n",
    "\n",
    "def binomial_probability(n, k, p):\n",
    "    return factorial(n)/(factorial(k)*(factorial(n-k)))*(p**k)*((1-p)**(n-k))\n",
    "\n",
    "\n",
    "results = []\n",
    "for k in range(n + 1): \n",
    "    prob = binomial_probability(n, k, p)\n",
    "    results.append({\"X\": k, \"Probability\": prob})\n",
    "\n",
    "df = pd.DataFrame(results)\n",
    "\n",
    "print(df)\n"
   ]
  },
  {
   "cell_type": "markdown",
   "id": "a8738f5c-9c85-4bc1-8d89-5251fd5d3368",
   "metadata": {},
   "source": [
    "**Задача4**\n",
    "Известно, что на сайте компании в час в среднем происходит 10 продаж. Какова вероятность того что в любой выбранный час количество продаж составит 8 штук?"
   ]
  },
  {
   "cell_type": "code",
   "execution_count": 19,
   "id": "6f596124-5c22-4d2e-a367-68195c4be618",
   "metadata": {},
   "outputs": [
    {
     "name": "stdout",
     "output_type": "stream",
     "text": [
      "0.1126\n"
     ]
    }
   ],
   "source": [
    "\n",
    "num_sales = 10\n",
    "num_sales_in_hour = 8 \n",
    "\n",
    "probability = (num_sales**num_sales_in_hour * math.exp(-num_sales)) / factorial(num_sales_in_hour)\n",
    "print(f\"{probability:.4f}\")\n"
   ]
  },
  {
   "cell_type": "markdown",
   "id": "70df35e8-5b63-41b5-bf50-838de7315a66",
   "metadata": {},
   "source": [
    "**Задача5**\n",
    "Игрок в баскетбол исполняет успешно 60% штрафных бросков. Если он выполнит 12 штрафных бросков, какова вероятность того, что он попадёт в цель ровно 10 раз?"
   ]
  },
  {
   "cell_type": "code",
   "execution_count": 24,
   "id": "8214690c-b3f8-49c9-936f-dd56d7fb262a",
   "metadata": {},
   "outputs": [
    {
     "name": "stdout",
     "output_type": "stream",
     "text": [
      "0.0639\n"
     ]
    }
   ],
   "source": [
    "n = 12 \n",
    "k = 10\n",
    "p = 0.60 \n",
    "\n",
    "def binomial_probability(n, k, p):\n",
    "    return factorial(n)/(factorial(k)*(factorial(n-k)))*(p**k)*((1-p)**(n-k))\n",
    "\n",
    "print(f\"{binomial_probability(n,k,p):.4f}\")\n",
    "\n"
   ]
  },
  {
   "cell_type": "code",
   "execution_count": null,
   "id": "87c0d706-5b4d-43ac-a943-0b3fe9e83b40",
   "metadata": {},
   "outputs": [],
   "source": []
  }
 ],
 "metadata": {
  "kernelspec": {
   "display_name": "Python 3 (ipykernel)",
   "language": "python",
   "name": "python3"
  },
  "language_info": {
   "codemirror_mode": {
    "name": "ipython",
    "version": 3
   },
   "file_extension": ".py",
   "mimetype": "text/x-python",
   "name": "python",
   "nbconvert_exporter": "python",
   "pygments_lexer": "ipython3",
   "version": "3.12.7"
  }
 },
 "nbformat": 4,
 "nbformat_minor": 5
}
