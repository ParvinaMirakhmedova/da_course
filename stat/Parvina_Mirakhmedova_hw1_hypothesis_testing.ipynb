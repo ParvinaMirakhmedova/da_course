{
 "cells": [
  {
   "cell_type": "markdown",
   "id": "bb78966e-89fb-40b5-b703-918724a7b15e",
   "metadata": {},
   "source": [
    "Домашнее задание по выборочным распределениям (проверке гипотез)\n",
    "Исполнитель: Мирахмедова Парвина\n",
    "Решите следующие задачи, принимая уровень значимости равным 5%"
   ]
  },
  {
   "cell_type": "markdown",
   "id": "62d02ef4-6793-41cd-968f-3e0fc6abc946",
   "metadata": {},
   "source": [
    "**Задача 1**\n",
    "Производитель светодиодных лампочек заявляет что их продукция имеет средний срок службы в 2000 часов. Клиент считает что срок службы лампочек меньше заявляемого компанией. Чтобы проверить это клиент купил 50 лампочек производства этой компании и их средний срок службы составил 1980 часов, со стандартным отклонением в 66 часов. Проверьте гипотезы и вынесите заключение."
   ]
  },
  {
   "cell_type": "code",
   "execution_count": 13,
   "id": "9e08e8ba-fc74-43e0-a5cb-944d03258cf0",
   "metadata": {},
   "outputs": [
    {
     "name": "stdout",
     "output_type": "stream",
     "text": [
      "-29.242424242424242\n"
     ]
    }
   ],
   "source": [
    "from scipy import stats\n",
    "#H_0 = 2000\n",
    "#H_1 <2000\n",
    "x = 50\n",
    "mu = 1980\n",
    "sigma = 66\n",
    "alpha = 0.05\n",
    "z = (x - mu)/sigma\n",
    "print(z)"
   ]
  },
  {
   "cell_type": "code",
   "execution_count": 14,
   "id": "d80f452d-a6fe-46ab-8acf-b3e6606c474f",
   "metadata": {},
   "outputs": [],
   "source": [
    "p_value_1 = stats.norm.sf(z)"
   ]
  },
  {
   "cell_type": "code",
   "execution_count": 15,
   "id": "2818ff4c-3885-45a2-b41e-2be5f7935343",
   "metadata": {},
   "outputs": [
    {
     "data": {
      "text/plain": [
       "1.0"
      ]
     },
     "execution_count": 15,
     "metadata": {},
     "output_type": "execute_result"
    }
   ],
   "source": [
    "p_value_1"
   ]
  },
  {
   "cell_type": "code",
   "execution_count": 16,
   "id": "ee9829ff-8c4e-4cfd-9636-dc3d227aa30e",
   "metadata": {},
   "outputs": [
    {
     "name": "stdout",
     "output_type": "stream",
     "text": [
      "Не можем отвергнуть нулевую гипотезу\n"
     ]
    }
   ],
   "source": [
    "if p_value < alpha:\n",
    "  print(\"Отвергаем нулевую гипотезу\")\n",
    "else:\n",
    "  print(\"Не можем отвергнуть нулевую гипотезу\")"
   ]
  },
  {
   "cell_type": "markdown",
   "id": "4cc9e1ce-a1a3-4088-9914-59bc9bf5e5bc",
   "metadata": {},
   "source": [
    "**Задача 2**\n",
    "Фасовочная машина заполняет мешки рисом в среднем по 1000гр на мешок и стандартным отклонением в 5гр. У производителя есть подозрение, что машина фасует рис в среднем больше требуемого. Он поручил сделать выборку из 100 мешков и их средний вес оказался равным 1003гр. Оправданы ли подозрения производителя?"
   ]
  },
  {
   "cell_type": "code",
   "execution_count": 17,
   "id": "2acfbb8b-b709-4972-bf08-53eac0aef2a3",
   "metadata": {},
   "outputs": [
    {
     "name": "stdout",
     "output_type": "stream",
     "text": [
      "0.6\n"
     ]
    }
   ],
   "source": [
    "#H_0 = 1000\n",
    "#H_1 >1000\n",
    "n = 100\n",
    "mu = 1000\n",
    "sigma = 5\n",
    "x = 1003\n",
    "alpha = 0.05\n",
    "z = (x - mu)/sigma\n",
    "print(z)"
   ]
  },
  {
   "cell_type": "code",
   "execution_count": 18,
   "id": "71d4d09d-5050-47a7-a23e-d2b408c049cd",
   "metadata": {},
   "outputs": [],
   "source": [
    "p_value = stats.norm.sf(z)"
   ]
  },
  {
   "cell_type": "code",
   "execution_count": 19,
   "id": "06fa6fcc-11ae-43d7-a332-6c22bb3f4fc4",
   "metadata": {},
   "outputs": [
    {
     "data": {
      "text/plain": [
       "0.2742531177500736"
      ]
     },
     "execution_count": 19,
     "metadata": {},
     "output_type": "execute_result"
    }
   ],
   "source": [
    "p_value"
   ]
  },
  {
   "cell_type": "code",
   "execution_count": 20,
   "id": "9ea2b7df-f8c4-4f0b-9f83-175cd5446621",
   "metadata": {},
   "outputs": [
    {
     "name": "stdout",
     "output_type": "stream",
     "text": [
      "Не можем отвергнуть нулевую гипотезу\n"
     ]
    }
   ],
   "source": [
    "if p_value < alpha:\n",
    "  print(\"Отвергаем нулевую гипотезу\")\n",
    "else:\n",
    "  print(\"Не можем отвергнуть нулевую гипотезу\")"
   ]
  },
  {
   "cell_type": "markdown",
   "id": "1c15e020-0762-461a-b2e8-1a81aa39bb95",
   "metadata": {},
   "source": [
    "**Задача 3**\n",
    "Утверждается что домашние коты живут в среднем 15.7 лет. Учёный решил проверить истинность этого утверждения и замерил срок жизни 40 домашних котов в своём городе. Средний срок жизни котов в выборке оказался равным 16.5 годам со стандартным отклонением в 1.6 лет. Значит ли это, что коты в среднем живут дольше чем принято считать?"
   ]
  },
  {
   "cell_type": "code",
   "execution_count": 22,
   "id": "409d19da-bbcf-4b58-ac92-b8f04117b117",
   "metadata": {},
   "outputs": [
    {
     "name": "stdout",
     "output_type": "stream",
     "text": [
      "3.162277660168382\n"
     ]
    }
   ],
   "source": [
    "import numpy as np\n",
    "#H_0=15.7\n",
    "#H_1>15.7\n",
    "mu = 15.7\n",
    "n = 40\n",
    "x = 16.5\n",
    "se = 1.6\n",
    "alpha = 0.05\n",
    "t = (x - mu)/(se/(np.sqrt(n)))\n",
    "print(t)"
   ]
  },
  {
   "cell_type": "code",
   "execution_count": 23,
   "id": "9763a834-52f4-4e00-84d3-0f05502c7116",
   "metadata": {},
   "outputs": [],
   "source": [
    "prob = stats.t.sf(x=3.162277660168382, df=39)"
   ]
  },
  {
   "cell_type": "code",
   "execution_count": 25,
   "id": "418e7a2e-07e2-450c-ad5a-c0ffecd19439",
   "metadata": {},
   "outputs": [],
   "source": [
    "p_value = prob"
   ]
  },
  {
   "cell_type": "code",
   "execution_count": 26,
   "id": "60c5b267-15f6-4d06-91d7-7f5d87419222",
   "metadata": {},
   "outputs": [
    {
     "name": "stdout",
     "output_type": "stream",
     "text": [
      "Отвергаем нулевую гипотезу\n"
     ]
    }
   ],
   "source": [
    "if p_value < alpha:\n",
    "  print(\"Отвергаем нулевую гипотезу\")\n",
    "else:\n",
    "  print(\"Не можем отвергнуть нулевую гипотезу\")"
   ]
  },
  {
   "cell_type": "markdown",
   "id": "e66b4bfa-7bba-4a51-b19b-9a962948fc44",
   "metadata": {},
   "source": [
    "**Задача 4**\n",
    "Здоровый новорожденный весит в среднем 3.40кг со стандартным отклонением в 0.45кг. Выборка из 49 новорожденных была взвешена и средний вес оказался равным 3.29кг. Проверьте следующие гипотезы: Ho:μ=7.5 и Ha:μ<7.5"
   ]
  },
  {
   "cell_type": "code",
   "execution_count": 27,
   "id": "04f97310-9a72-40c0-80a2-2a1872fda26e",
   "metadata": {},
   "outputs": [
    {
     "name": "stdout",
     "output_type": "stream",
     "text": [
      "-0.24444444444444416\n"
     ]
    }
   ],
   "source": [
    "#Ho:μ=7.5 \n",
    "#Ha:μ<7.5\n",
    "mu = 3.40\n",
    "sigma = 0.45\n",
    "n = 49\n",
    "x = 3.29\n",
    "alpha = 0.05\n",
    "z = (x - mu)/sigma\n",
    "print(z)"
   ]
  },
  {
   "cell_type": "code",
   "execution_count": 32,
   "id": "a493c191-dfe0-4915-a949-d8352994d5da",
   "metadata": {},
   "outputs": [
    {
     "data": {
      "text/plain": [
       "0.5965566880740969"
      ]
     },
     "execution_count": 32,
     "metadata": {},
     "output_type": "execute_result"
    }
   ],
   "source": [
    "prob = stats.norm.sf(z)\n",
    "prob = p_value\n",
    "p_value"
   ]
  },
  {
   "cell_type": "code",
   "execution_count": 33,
   "id": "0556b1fc-7096-4ce9-9929-88fde5daa8b7",
   "metadata": {},
   "outputs": [
    {
     "name": "stdout",
     "output_type": "stream",
     "text": [
      "Не можем отвергнуть нулевую гипотезу\n"
     ]
    }
   ],
   "source": [
    "if p_value < alpha:\n",
    "  print(\"Отвергаем нулевую гипотезу\")\n",
    "else:\n",
    "  print(\"Не можем отвергнуть нулевую гипотезу\")"
   ]
  },
  {
   "cell_type": "markdown",
   "id": "88c8dac9-dfff-4018-bcb9-c67a5d7b2343",
   "metadata": {},
   "source": [
    "**Задача 5**\n",
    "В популяции средний показатель IQ составляет 100 со стандартным отклонением 15. Команда ученых хочет проверить новое лекарство, чтобы выяснить, оказывает ли оно положительное или отрицательное влияние на интеллект, или же не оказывает никакого эффекта. В выборке из 30 участников, которые принимали лекарство, средний показатель IQ составил 140. Повлияло ли лекарство на интеллект?"
   ]
  },
  {
   "cell_type": "code",
   "execution_count": 31,
   "id": "2c3c5026-7f8b-49ba-abaf-c291f711ca7f",
   "metadata": {},
   "outputs": [
    {
     "name": "stdout",
     "output_type": "stream",
     "text": [
      "2.6666666666666665\n"
     ]
    }
   ],
   "source": [
    "#Ho:μ=100 \n",
    "#Ha:μ!=100\n",
    "mu = 100\n",
    "sigma = 15\n",
    "n = 30\n",
    "x = 140\n",
    "alpha = 0.05\n",
    "z = (x - mu)/sigma\n",
    "print(z)"
   ]
  },
  {
   "cell_type": "code",
   "execution_count": 36,
   "id": "58651f6e-9599-4f30-b97e-6212fedfb7a3",
   "metadata": {},
   "outputs": [
    {
     "data": {
      "text/plain": [
       "0.007660761135179473"
      ]
     },
     "execution_count": 36,
     "metadata": {},
     "output_type": "execute_result"
    }
   ],
   "source": [
    "prob  = stats.norm.sf(z)\n",
    "p_value = 2*prob\n",
    "p_value"
   ]
  },
  {
   "cell_type": "code",
   "execution_count": 37,
   "id": "ce9abc62-f48d-4fe4-a2a6-c7493074af0b",
   "metadata": {},
   "outputs": [
    {
     "name": "stdout",
     "output_type": "stream",
     "text": [
      "Отвергаем нулевую гипотезу\n"
     ]
    }
   ],
   "source": [
    "if p_value < alpha:\n",
    "  print(\"Отвергаем нулевую гипотезу\")\n",
    "else:\n",
    "  print(\"Не можем отвергнуть нулевую гипотезу\")"
   ]
  },
  {
   "cell_type": "code",
   "execution_count": null,
   "id": "a1f973bf-9de1-4acf-8b43-88a5411724bd",
   "metadata": {},
   "outputs": [],
   "source": []
  }
 ],
 "metadata": {
  "kernelspec": {
   "display_name": "Python 3 (ipykernel)",
   "language": "python",
   "name": "python3"
  },
  "language_info": {
   "codemirror_mode": {
    "name": "ipython",
    "version": 3
   },
   "file_extension": ".py",
   "mimetype": "text/x-python",
   "name": "python",
   "nbconvert_exporter": "python",
   "pygments_lexer": "ipython3",
   "version": "3.12.7"
  }
 },
 "nbformat": 4,
 "nbformat_minor": 5
}
