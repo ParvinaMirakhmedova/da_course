{
 "cells": [
  {
   "cell_type": "markdown",
   "id": "d5ad302f-fa70-4abd-b11e-6f727a1974ae",
   "metadata": {},
   "source": [
    "Домашнее задание по комбинаторике\n",
    "Исплнитель: Мирахмедова Парвина\n"
   ]
  },
  {
   "cell_type": "markdown",
   "id": "e5b45106-7723-46d0-8187-132c0fef3eff",
   "metadata": {},
   "source": [
    "**Задача 1**\n",
    "Макс забыл пароль от своего телефона. Пароль состоял из пяти значений, каждое из которых может быть цифрой от 0 до 9. Сколько всего вариантов должен перебрать Макс, чтобы подобрать пароль к своему телефону?"
   ]
  },
  {
   "cell_type": "code",
   "execution_count": 8,
   "id": "3a04a566-c997-4c54-965e-9e2600c68513",
   "metadata": {},
   "outputs": [
    {
     "name": "stdout",
     "output_type": "stream",
     "text": [
      "Макс должен перебрать 100000 вариантов, чтобы подобрать пароль.\n"
     ]
    }
   ],
   "source": [
    "num_pass = 5\n",
    "num_choice = 10\n",
    "num_var = num_choice**num_pass\n",
    "print(f\"Макс должен перебрать {num_var} вариантов, чтобы подобрать пароль.\")"
   ]
  },
  {
   "cell_type": "markdown",
   "id": "a9cf20a5-5b66-4b16-b348-6f6a8ca19890",
   "metadata": {},
   "source": [
    "**Задача 2**\n",
    "У Малики есть все семь книг серии о Гарри Поттере. Сколькими способами она может расставить эти книги на полке?"
   ]
  },
  {
   "cell_type": "code",
   "execution_count": 7,
   "id": "71c8d691-c9e6-4118-b774-6b393fac6c56",
   "metadata": {},
   "outputs": [
    {
     "name": "stdout",
     "output_type": "stream",
     "text": [
      "Малика может расставить книги 5040 способами.\n"
     ]
    }
   ],
   "source": [
    "import math \n",
    "num_books = 7\n",
    "num_var = math.factorial(num_books)\n",
    "print(f\"Малика может расставить книги {num_var} способами.\")\n"
   ]
  },
  {
   "cell_type": "markdown",
   "id": "df976a9b-a6c3-4b25-87b1-624764f0cde3",
   "metadata": {},
   "source": [
    "**Задача 3**\n",
    "На окружности круга размещены 9 точек. Сколько можно провести линий, соединяющих эти точки?"
   ]
  },
  {
   "cell_type": "code",
   "execution_count": 12,
   "id": "668b685f-f065-439d-afcc-9df3e38e5d8a",
   "metadata": {},
   "outputs": [
    {
     "name": "stdout",
     "output_type": "stream",
     "text": [
      "36.0\n"
     ]
    }
   ],
   "source": [
    "num_all_points = 9\n",
    "num_lines = 2\n",
    "nom = math.factorial(num_all_points)\n",
    "denom = math.factorial(num_lines)*(math.factorial(num_all_points - num_lines))\n",
    "num_var=nom/denom\n",
    "print(num_var)"
   ]
  },
  {
   "cell_type": "markdown",
   "id": "af2971a5-73a8-4890-afd7-1c6103592875",
   "metadata": {},
   "source": [
    "**Задача 4**\n",
    "Транс-Сибирская железнодорожная магистраль тянется от Москвы до Владивостока. Всего, магистраль состоит из 19 станций. На билете указывается станция отбытия и станция пребытия. Сколько всего вариантов билетов существует?"
   ]
  },
  {
   "cell_type": "code",
   "execution_count": 5,
   "id": "56fcd321-2f55-47a4-bf0f-0a26a5bb2f0a",
   "metadata": {},
   "outputs": [
    {
     "name": "stdout",
     "output_type": "stream",
     "text": [
      "342.0\n"
     ]
    }
   ],
   "source": [
    "num_stations = 19\n",
    "num_ticket = 2\n",
    "nom = math.factorial(num_stations)\n",
    "denom = math.factorial(num_stations - num_ticket)\n",
    "num_var = nom/denom\n",
    "print(num_var)"
   ]
  },
  {
   "cell_type": "markdown",
   "id": "bb3f5a94-62ba-44a7-ab56-dca1778393e3",
   "metadata": {},
   "source": [
    "**Задача 5**\n",
    "Вы работаете в команде из 13 человек. Ваш менеджер решает рандомно выбрать 3 человек из команды и отправить на конференцию в Анталию, которая будет длится 4 дня. Какова вероятность того, что вам посчастливится поехать на конференцию?"
   ]
  },
  {
   "cell_type": "code",
   "execution_count": 21,
   "id": "4aea9c4e-4e2a-4872-83ae-f54dff0f2bdd",
   "metadata": {},
   "outputs": [
    {
     "name": "stdout",
     "output_type": "stream",
     "text": [
      "Вероятность, что вы попадёте на конференцию: 0.2308 (23.08%)\n"
     ]
    }
   ],
   "source": [
    "num_team = 13\n",
    "nominated = 3\n",
    "nomin = math.factorial(num_team)\n",
    "denom = (math.factorial(nominated) * math.factorial(num_team - nominated))\n",
    "total_combinations = nomin/denom\n",
    "\n",
    "desired_nomin = math.factorial(num_team - 1)\n",
    "desired_denom = (math.factorial(nominated - 1) * math.factorial((num_team - 1) - (nominated - 1)))\n",
    "desired_combinations = desired_nomin/desired_denom\n",
    "\n",
    "p = desired_combinations / total_combinations\n",
    "print(f\"Вероятность, что вы попадёте на конференцию: {p:.4f} ({p * 100:.2f}%)\")\n"
   ]
  }
 ],
 "metadata": {
  "kernelspec": {
   "display_name": "Python 3 (ipykernel)",
   "language": "python",
   "name": "python3"
  },
  "language_info": {
   "codemirror_mode": {
    "name": "ipython",
    "version": 3
   },
   "file_extension": ".py",
   "mimetype": "text/x-python",
   "name": "python",
   "nbconvert_exporter": "python",
   "pygments_lexer": "ipython3",
   "version": "3.12.7"
  }
 },
 "nbformat": 4,
 "nbformat_minor": 5
}
