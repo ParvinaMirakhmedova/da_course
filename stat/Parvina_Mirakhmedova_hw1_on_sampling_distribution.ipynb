{
 "cells": [
  {
   "cell_type": "markdown",
   "id": "66c6639b-6dee-47b8-98a5-f89c4f47fa6c",
   "metadata": {},
   "source": [
    "Домашнее задание по выборочным распределениям\n",
    "Исполнитель: Мирахмедова Парвина"
   ]
  },
  {
   "cell_type": "markdown",
   "id": "cac4ba14-b1f6-4420-a3f4-a59bf4a826ae",
   "metadata": {},
   "source": [
    "**Задача 1**\n",
    "Имеется следующая выборка [6, 8, 11, 11, 17, 21, 34, 35, 41, 42, 43, 46, 54, 54, 59, 62], где каждое наблюдение это возраст человека. Какова точечная оценка среднего значения и стандартного отклонения популяции?"
   ]
  },
  {
   "cell_type": "code",
   "execution_count": 30,
   "id": "c85a5883-c608-4c8f-abf0-009169c1d652",
   "metadata": {},
   "outputs": [
    {
     "name": "stdout",
     "output_type": "stream",
     "text": [
      "Среднее значение равно 30.5\n",
      "Стандартное отклонение равно 18.2483\n"
     ]
    }
   ],
   "source": [
    "sample = [6, 8, 11, 11, 17, 21, 34, 35, 41, 42, 43, 46, 54, 54, 59, 6]\n",
    "mean = np.mean(sample)\n",
    "std_population = np.std(sample)\n",
    "print(f\"Среднее значение равно {mean}\")\n",
    "print(f\"Стандартное отклонение равно {std_population:.4f}\")"
   ]
  },
  {
   "cell_type": "markdown",
   "id": "d4fecc83-35fe-4813-bddf-416899e1cd59",
   "metadata": {},
   "source": [
    "**Задача 2**\n",
    "24% всех производимых шоколадных драже M&M's красятся в синий цвет. В стандартном пакете чаще всего содержится 17 драже. Какова вероятность, что в купленном вами в магазине пакетике, доля синих драже будет больше 40%?"
   ]
  },
  {
   "cell_type": "code",
   "execution_count": 31,
   "id": "97b664cb-ec69-45ae-981a-26791dcacb45",
   "metadata": {},
   "outputs": [
    {
     "name": "stdout",
     "output_type": "stream",
     "text": [
      "6.8 4.08 1.76 1.55\n",
      "Вероятность, что доля синих драже больше 40% равна 0.9394\n"
     ]
    }
   ],
   "source": [
    "import numpy as np\n",
    "from scipy.stats import norm\n",
    "n = 17\n",
    "p_blue = 0.24\n",
    "x = (n*40)/100\n",
    "mu = n*p_blue\n",
    "sigma = np.round(np.sqrt((n*p_blue)*(1-p_blue)),2)\n",
    "z = np.round((x-mu)/sigma,2)\n",
    "p_1 = norm.cdf(z)\n",
    "print(x,mu,sigma,z)\n",
    "print(f\"Вероятность, что доля синих драже больше 40% равна {p_1:.4f}\")"
   ]
  },
  {
   "cell_type": "markdown",
   "id": "71d1793d-7087-4c77-bc7c-83418a8a269b",
   "metadata": {},
   "source": [
    "**Задача 3**\n",
    "64 мужчины были выбраны случайным образом и их веса были измерены. Среднее значение выборки составило 84 кг, а стандартное отклонение - 24 кг. Рассчитайте доверительный интервал для среднего значения популяции с 90%-м уровнем доверия."
   ]
  },
  {
   "cell_type": "code",
   "execution_count": 32,
   "id": "515597b9-4ebd-451f-ac0a-f0029681c3cb",
   "metadata": {},
   "outputs": [
    {
     "name": "stdout",
     "output_type": "stream",
     "text": [
      "Нижняя граница диапазона 79.07\n",
      "Верхняя граница диапазона 88.93\n"
     ]
    }
   ],
   "source": [
    "\n",
    "n = 64\n",
    "x = 84\n",
    "se = 24\n",
    "beta = .90\n",
    "alpha = 1 - beta\n",
    "factor = 1 - alpha/2\n",
    "z = norm.ppf(factor, loc=0, scale=1)\n",
    "CI_90_lower = np.round(x-z*(se/np.sqrt(n)),2)\n",
    "CI_90_upper = np.round(x+z*(se/np.sqrt(n)),2)\n",
    "print(f\"Нижняя граница диапазона {CI_90_lower}\")\n",
    "print(f\"Верхняя граница диапазона {CI_90_upper}\")"
   ]
  },
  {
   "cell_type": "markdown",
   "id": "f35d5845-5a91-4351-8333-faa9d92c6e05",
   "metadata": {},
   "source": [
    "**Задача 4**\n",
    "В 2003 году Дартмутская Медицинская Школа запустила исследование для изучения связи между просмотром фильмов с курящими актёрами и началом курения среди подростков. В исследовании были случайным образом отобраны 6522 американских подростка в возрасте 10-14 лет, которые никогда не пробовали курить до этого. Из тех, кто впоследствии попробовал курить впервые, 38% сделали это из-за воздействия курения в фильмах. Оцените долю всех американских подростков в возрасте 10-14 лет, которые начали курить из-за просмотра курящих актеров в фильмах, построив 95% доверительный интервал."
   ]
  },
  {
   "cell_type": "code",
   "execution_count": 33,
   "id": "ad039b7c-b9ad-439e-8c64-87981b0de23b",
   "metadata": {},
   "outputs": [
    {
     "name": "stdout",
     "output_type": "stream",
     "text": [
      "Нижняя граница диапазона 0.3682\n",
      "Верхняя граница диапазона 0.3918\n"
     ]
    }
   ],
   "source": [
    "n = 6522\n",
    "p = 0.38\n",
    "beta = .95\n",
    "alpha = 1 - beta\n",
    "factor = 1 - alpha/2\n",
    "z = norm.ppf(factor, loc=0, scale=1)\n",
    "CI_95_upper = p+z*(np.sqrt(p*(1-p)/n))\n",
    "CI_95_lower = p-z*(np.sqrt(p*(1-p)/n))\n",
    "print(f\"Нижняя граница диапазона {CI_95_lower:.4f}\")\n",
    "print(f\"Верхняя граница диапазона {CI_95_upper:.4f}\")"
   ]
  },
  {
   "cell_type": "markdown",
   "id": "695b204e-8dfe-4a65-a67a-65fa2d228952",
   "metadata": {},
   "source": [
    "**Задача 5**\n",
    "49 женщин, были выбраны случайным образом и их высота была измерена. Среднее значение выборки составило 164 см, стандартное отклонение - 20 см. Рассчитайте доверительный интервал для среднего значения популяции с 95%-м уровнем доверия.\n"
   ]
  },
  {
   "cell_type": "code",
   "execution_count": 34,
   "id": "10ef438e-66f8-4d54-a7c4-0d018747cf8c",
   "metadata": {},
   "outputs": [
    {
     "name": "stdout",
     "output_type": "stream",
     "text": [
      "Нижняя граница диапазона 158.40\n",
      "Верхняя граница диапазона 169.60\n"
     ]
    }
   ],
   "source": [
    "n = 49\n",
    "x = 164\n",
    "se = 20\n",
    "t = norm.ppf(q=.975, loc=0, scale=1)\n",
    "CI_95_lower = np.round(x-t*(se/np.sqrt(n)),2)\n",
    "CI_95_upper = np.round(x+t*(se/np.sqrt(n)),2)\n",
    "print(f\"Нижняя граница диапазона {CI_95_lower:.2f}\")\n",
    "print(f\"Верхняя граница диапазона {CI_95_upper:.2f}\")"
   ]
  },
  {
   "cell_type": "code",
   "execution_count": null,
   "id": "7f571ef2-450c-4d8b-9ce8-9d7a8be69894",
   "metadata": {},
   "outputs": [],
   "source": []
  }
 ],
 "metadata": {
  "kernelspec": {
   "display_name": "Python 3 (ipykernel)",
   "language": "python",
   "name": "python3"
  },
  "language_info": {
   "codemirror_mode": {
    "name": "ipython",
    "version": 3
   },
   "file_extension": ".py",
   "mimetype": "text/x-python",
   "name": "python",
   "nbconvert_exporter": "python",
   "pygments_lexer": "ipython3",
   "version": "3.12.7"
  }
 },
 "nbformat": 4,
 "nbformat_minor": 5
}
