{
 "cells": [
  {
   "cell_type": "markdown",
   "id": "4e587c63-f489-4e38-a901-3da3a3edb865",
   "metadata": {},
   "source": [
    "Домашнее задание по выборочным распределениям\n",
    "Исполнитель: Мирахмедова Парвина\n",
    "Решите следующие задачи, принимая уровень значимости равным 5%:"
   ]
  },
  {
   "cell_type": "markdown",
   "id": "c5bc646a-024d-420e-b865-56300acb5ee2",
   "metadata": {},
   "source": [
    "**Задача 1**\n",
    "У случайной выборки людей разного возраста спросили надевают ли они очки при чтении. Результаты приведены в таблице ниже. Имеется ли взаимосвязь между возрастом и ношением очков?\n",
    "                надевает очки\tне надевает\n",
    "возраст ≤20\t            15\t         56\n",
    "20 < возраст ≤ 40\t    19\t         37\n",
    "40 < возраст ≤60\t    34\t         35\n",
    "возраст > 60\t        51\t         23"
   ]
  },
  {
   "cell_type": "markdown",
   "id": "d9732ef8-e713-49c2-a48c-e87f711f2e9a",
   "metadata": {},
   "source": [
    "тип связи C-C, случайная выборка,выборка достаточно большая,необходимо обнаружить взаимосвязь, считаем хи-квадрат"
   ]
  },
  {
   "cell_type": "code",
   "execution_count": 55,
   "id": "822a209f-8261-4107-a52f-da73bc42aaef",
   "metadata": {},
   "outputs": [],
   "source": [
    "#H_0:Между возрастом и ношением очков нет взаиомосвязи \n",
    "#H_a:Между возрастом и ношением очков есть взаимосвязь \n",
    "alpha = 0.05"
   ]
  },
  {
   "cell_type": "code",
   "execution_count": 57,
   "id": "eaa6c5b8-f2fa-475e-a3ec-05df523d26be",
   "metadata": {},
   "outputs": [
    {
     "name": "stdout",
     "output_type": "stream",
     "text": [
      "статистика хи-квадрат: 36.795113057987386\n",
      "p-value: 5.0843273728433166e-08\n",
      "степени свободы: 3\n",
      "ожидаемые значения: [[31.29259259 39.70740741]\n",
      " [24.68148148 31.31851852]\n",
      " [30.41111111 38.58888889]\n",
      " [32.61481481 41.38518519]]\n"
     ]
    }
   ],
   "source": [
    "import numpy as np\n",
    "from scipy import stats\n",
    "observed_data = np.array([[15,56],[19,37],[34,35],[51,23]])\n",
    "chi2_stat, p_value, dof, expected = stats.chi2_contingency(observed_data)\n",
    "print(f\"статистика хи-квадрат: {chi2_stat}\")\n",
    "print(f\"p-value: {p_value}\")\n",
    "print(f\"степени свободы: {dof}\")\n",
    "print(f\"ожидаемые значения: {expected}\")"
   ]
  },
  {
   "cell_type": "code",
   "execution_count": 58,
   "id": "9e6c4b35-f4e9-4e7f-8531-dc671594819b",
   "metadata": {},
   "outputs": [
    {
     "name": "stdout",
     "output_type": "stream",
     "text": [
      "Отвергаем нулевую гипотезу и между возрастом и ношением очков есть взаимосвязь\n"
     ]
    }
   ],
   "source": [
    "if p_value<alpha:\n",
    "    print(\"Отвергаем нулевую гипотезу и между возрастом и ношением очков есть взаимосвязь\")\n",
    "else:\n",
    "    print(\"Не отвергаем нулевую гипотезу и между между возрастом и ношением очков нет взаимосвязи\")"
   ]
  },
  {
   "cell_type": "markdown",
   "id": "cf1aad9a-0238-4187-9cf7-ff78a36db8f5",
   "metadata": {},
   "source": [
    "**Задача 2**\n",
    "Случайная выборка студентов была разделена на 3 группы и каждая из них готовилась к сдаче экзамена по одной из 3 методик (A, B, C). В таблице ниже приведены оценки по экзамену студентов каждой группы. Определите имеются ли различия между группами.\n",
    "Group 1\tGroup 2\tGroup 3\n",
    "85\t      91\t  79\n",
    "86\t      92\t  78\n",
    "88\t      93\t  88\n",
    "75\t      85\t  94\n",
    "78\t      87\t  92\n",
    "94\t      84\t  85\n",
    "98\t      82\t  83\n",
    "79\t      88\t  85\n",
    "71\t      95\t  82\n",
    "80\t      96\t  81"
   ]
  },
  {
   "cell_type": "markdown",
   "id": "72553b0c-1687-4fb5-a5c9-eec9c03bd8ae",
   "metadata": {},
   "source": [
    "тип связи C-Q,одна объясняющая переменная для 3х категорий, все выборки независимые, размер выборок достаточно большой, необходимо проверить составляет ли разница между наибольшим и наменьшим стандартным отклонением меньше 2, если до, то лиспользуем тест ANOVA"
   ]
  },
  {
   "cell_type": "code",
   "execution_count": null,
   "id": "b2c99e4e-6a5c-496d-aff7-8413a66fdf01",
   "metadata": {},
   "outputs": [],
   "source": [
    "#H_0:μ1=μ2=μ3=μ4 \n",
    "#H_a:μ1≠μ2≠μ3≠μ4\n",
    "alpha=0.05"
   ]
  },
  {
   "cell_type": "code",
   "execution_count": 59,
   "id": "4ea20834-e720-446e-a855-85b2b4b12c6c",
   "metadata": {},
   "outputs": [
    {
     "name": "stdout",
     "output_type": "stream",
     "text": [
      "std_1:8.435375246872871\n",
      "std_2:4.808557187163549\n",
      "std_3:5.2925524193068805\n"
     ]
    }
   ],
   "source": [
    "group_1 = np.array([85,86,88,75,78,94,98,79,71,80])\n",
    "group_2 = np.array([91,92,93,85,87,84,82,88,95,96])\n",
    "group_3 = np.array([79,78,88,94,92,85,83,85,82,81])\n",
    "std_1 = group_1.std(ddof=1)\n",
    "std_2 = group_2.std(ddof=1)\n",
    "std_3 = group_3.std(ddof=1)\n",
    "print(f\"std_1:{std_1}\")\n",
    "print(f\"std_2:{std_2}\")\n",
    "print(f\"std_3:{std_3}\")"
   ]
  },
  {
   "cell_type": "code",
   "execution_count": 61,
   "id": "5d3e09fb-be1c-434e-b941-50cd45f8b465",
   "metadata": {},
   "outputs": [
    {
     "name": "stdout",
     "output_type": "stream",
     "text": [
      "diff_std:1.7542424720228176\n"
     ]
    }
   ],
   "source": [
    "diff_std = std_1/std_2\n",
    "print(f\"diff_std:{diff_std}\")"
   ]
  },
  {
   "cell_type": "code",
   "execution_count": 62,
   "id": "7f8bfe3a-07fb-41f9-b6d1-f1db5300f19a",
   "metadata": {},
   "outputs": [
    {
     "name": "stdout",
     "output_type": "stream",
     "text": [
      "f-statistic: 2.3575322551335636\n",
      "p-value: 0.11384795345837218\n"
     ]
    }
   ],
   "source": [
    "f_statistic, p_value = stats.f_oneway(group_1,group_2,group_3)\n",
    "print(f'f-statistic: {f_statistic}')\n",
    "print(f'p-value: {p_value}')"
   ]
  },
  {
   "cell_type": "code",
   "execution_count": 64,
   "id": "adbac89f-8d5b-447e-8f55-ae10b106f8e0",
   "metadata": {},
   "outputs": [
    {
     "name": "stdout",
     "output_type": "stream",
     "text": [
      "Не отвергаем нулевую гипотезу, между группами нет различияб методика подготовки не имеет значения\n"
     ]
    }
   ],
   "source": [
    "if p_value<alpha:\n",
    "    print(\"Отвергаем нулевую гипотезу и между группами есть различия,методика подготовки имеет значение\")\n",
    "if p_value>alpha:\n",
    "    print(\"Не отвергаем нулевую гипотезу, между группами нет различия, методика подготовки не имеет значения\")"
   ]
  },
  {
   "cell_type": "markdown",
   "id": "9c58d208-818a-41c0-8d9e-11cc313cbc30",
   "metadata": {},
   "source": [
    "**Задача 3**\n",
    "Случайная выборка 20 игроков в баскетбол была отобрана для улучшения высоты их вертикального прыжка специальным методом тренировок. Высота максимального вертикального прыжка (в сантиметрах) каждого игрока измерили при отборе а потом измерили повторно, после прохождения тренировок. Результаты представлены в таблице ниже. Улучшила ли программа высоту вертикального прыжка игроков?\n",
    "Игрок\tМаксимальный вертикальный прыжок до программы тренировок (см)\tМаксимальный вертикальный прыжок после программы тренировок (см)\n",
    "Игрок 1\t                             55.88\t                                                              60.96\n",
    "Игрок 2\t                             50.80\t                                                              55.88\n",
    "Игрок 3\t                             48.26\t                                                              48.26\n",
    "Игрок 4\t                             60.96\t                                                              55.88\n",
    "Игрок 5\t                             63.50\t                                                              71.12\n",
    "Игрок 6\t                             63.50\t                                                              66.04\n",
    "Игрок 7\t                             71.12\t                                                              71.12\n",
    "Игрок 8\t                             55.88\t                                                              60.96\n",
    "Игрок 9\t                             76.20\t                                                              76.20\n",
    "Игрок 10\t                         68.58\t                                                              73.66\n",
    "Игрок 11\t                         60.96\t                                                              63.50\n",
    "Игрок 12\t                         45.72\t                                                              50.80\n",
    "Игрок 13\t                         40.64\t                                                              43.18\n",
    "Игрок 14\t                         48.26\t                                                              45.72\n",
    "Игрок 15\t                         48.26\t                                                              45.72\n",
    "Игрок 16\t                         71.12\t                                                              71.12\n",
    "Игрок 17\t                         60.96\t                                                              66.04\n",
    "Игрок 18\t                         63.50\t                                                              68.58\n",
    "Игрок 19\t                         63.50\t                                                              68.58\n",
    "Игрок 20\t                         58.42\t                                                              60.96"
   ]
  },
  {
   "cell_type": "markdown",
   "id": "324333b0-421c-45b8-a330-56dd44cc0418",
   "metadata": {},
   "source": [
    "тип связи С- Q, выборка маленькая, зависимые переменные, необходимо определить соблюдается ли нормальное распределение, если да,то принимаем парный t-test\n",
    "H_0: mu = 0\n",
    "H_a:mu>0\n",
    "alpha = .05"
   ]
  },
  {
   "cell_type": "code",
   "execution_count": null,
   "id": "498225eb-90a9-4e10-b388-88c4f02adc8d",
   "metadata": {},
   "outputs": [],
   "source": [
    "import seaborn as sns\n",
    "alpha = .05\n",
    "before = np.array([55.88,50.80,48.26,60.96,63.50,63.50,71.12,55.88,76.20,68.58,60.96,45.72,40.64,48.26,48.26,71.12,60.96,63.50,63.50,58.42])\n",
    "after = np.array ([60.96,55.88,48.26,55.88,71.12,66.04,71.12,60.96,76.20,73.66,63.50,50.80,43.18,45.72,45.72,71.12,660.4,68.58,68.58,60.96])\n",
    "diff = before - after"
   ]
  },
  {
   "cell_type": "code",
   "execution_count": null,
   "id": "1152665d-674c-41f6-9410-3b34e95e4cc3",
   "metadata": {},
   "outputs": [],
   "source": [
    "diff"
   ]
  },
  {
   "cell_type": "code",
   "execution_count": null,
   "id": "041f8714-0280-4294-9654-7a77f3a4f366",
   "metadata": {},
   "outputs": [],
   "source": [
    "sns.displot(diff,kind = \"kde\")"
   ]
  },
  {
   "cell_type": "code",
   "execution_count": null,
   "id": "494511a9-80f7-47c7-b510-c99809c4d61f",
   "metadata": {},
   "outputs": [],
   "source": [
    "n = 20\n",
    "mean_d = diff.mean()\n",
    "std_d = diff.std(ddof=1)\n",
    "print(f\"Среднее значение разницы выборок {mean_d}\")\n",
    "print(f\"Стандартное отклонение разницы выборок {std_d}\")"
   ]
  },
  {
   "cell_type": "code",
   "execution_count": null,
   "id": "6f669f0e-c916-4689-945c-c6310b33fa1e",
   "metadata": {},
   "outputs": [],
   "source": [
    "t = (mean_d -0)/(std_d/np.sqrt(n))\n",
    "print(t)"
   ]
  },
  {
   "cell_type": "code",
   "execution_count": null,
   "id": "9ce272f5-fff0-4ea4-a389-2bb824482bc7",
   "metadata": {},
   "outputs": [],
   "source": [
    "p_value = stats.t.cdf(--1.0757881365957975, df=n-1)\n",
    "print(f\"p-value: {p_value}\")"
   ]
  },
  {
   "cell_type": "code",
   "execution_count": null,
   "id": "7062bb43-365e-4177-b5b4-af96ddf6415e",
   "metadata": {},
   "outputs": [],
   "source": [
    "t_statistic,p_value = stats.ttest_rel(before,after,alternative = \"greater\")\n",
    "print(f\"T-статистика: {t_statistic:.4f}\")\n",
    "print(f\"p_value:{p_value:.2f}\")"
   ]
  },
  {
   "cell_type": "code",
   "execution_count": null,
   "id": "d52c68f2-1986-4f09-b82f-380436764bff",
   "metadata": {},
   "outputs": [],
   "source": [
    "if p_value<alpha:\n",
    "    print(\"Отвергаем нулевую гипотезу и программа улучшила высоту прыжков\")\n",
    "if p_value>alpha:\n",
    "    print(\"Не отвергаем нулевую гипотезу и нет статистически значимых различий после внедрения программы\")"
   ]
  }
 ],
 "metadata": {
  "kernelspec": {
   "display_name": "Python 3 (ipykernel)",
   "language": "python",
   "name": "python3"
  },
  "language_info": {
   "codemirror_mode": {
    "name": "ipython",
    "version": 3
   },
   "file_extension": ".py",
   "mimetype": "text/x-python",
   "name": "python",
   "nbconvert_exporter": "python",
   "pygments_lexer": "ipython3",
   "version": "3.12.7"
  }
 },
 "nbformat": 4,
 "nbformat_minor": 5
}
