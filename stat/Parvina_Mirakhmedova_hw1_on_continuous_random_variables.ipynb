{
 "cells": [
  {
   "cell_type": "markdown",
   "id": "3c14305d-9127-4c7f-9d53-e994c8506b9c",
   "metadata": {},
   "source": [
    "Домашнее задание по непрерывным случайным величинам\n",
    "Испонитель: Мирахмедова Парвина"
   ]
  },
  {
   "cell_type": "markdown",
   "id": "fc975e2a-1400-41b4-9a0b-91d5dbe2b86b",
   "metadata": {},
   "source": [
    "**Задача 1**\n",
    "Есть переменная X с нормальным распределением. Если стандартизированное значение X равно 1.27 (z = 1.27), то какова вероятность P(Z≤1.27)? "
   ]
  },
  {
   "cell_type": "code",
   "execution_count": 1,
   "id": "e2bdd679-496b-4b3b-b6ac-f5a91f53316e",
   "metadata": {},
   "outputs": [],
   "source": [
    "from scipy.stats import norm"
   ]
  },
  {
   "cell_type": "code",
   "execution_count": 21,
   "id": "d56c4d8c-db11-402c-b746-445e247983d5",
   "metadata": {},
   "outputs": [
    {
     "name": "stdout",
     "output_type": "stream",
     "text": [
      "Вероятность равна 0.8980\n"
     ]
    }
   ],
   "source": [
    "z = 1.27\n",
    "p = norm.cdf(1.27)\n",
    "print(f\"Вероятность равна {p:.4f}\")"
   ]
  },
  {
   "cell_type": "markdown",
   "id": "4aaf7cca-f62a-4064-925d-3d48ccc57807",
   "metadata": {},
   "source": [
    "**Задача 2**\n",
    "Допустим что Z это переменная со стандартным нормальным распределением. Какова вероятность P(−1.76<Z<−1.19)?"
   ]
  },
  {
   "cell_type": "code",
   "execution_count": 46,
   "id": "02a38dc8-b511-4f27-9260-a8cb3336f3c6",
   "metadata": {},
   "outputs": [
    {
     "name": "stdout",
     "output_type": "stream",
     "text": [
      "Вероятность равна 0.0778\n"
     ]
    }
   ],
   "source": [
    "Z_1 = -1.76\n",
    "Z_2 = -1.19\n",
    "p = norm.cdf(Z_2)-norm.cdf(Z_1)\n",
    "print(f\"Вероятность равна {p:.4f}\")"
   ]
  },
  {
   "cell_type": "markdown",
   "id": "4d36bafd-583f-4706-81fc-553f94a2f8a2",
   "metadata": {},
   "source": [
    "**Задача 3**\n",
    "У 95.45% девушек старших классов, вес находится в диапазоне от 38кг до 52кг. Если предположить, что вес девушек распределён нормально, найдите среднее значение и стандартное отклонение."
   ]
  },
  {
   "cell_type": "code",
   "execution_count": 18,
   "id": "162b8c3e-f2c6-4872-94f9-877015f81028",
   "metadata": {},
   "outputs": [
    {
     "name": "stdout",
     "output_type": "stream",
     "text": [
      "Среднее значение равно 45.0 кг\n",
      "Стандартное отклонение равно 3.5 кг\n"
     ]
    }
   ],
   "source": [
    "p=0.9545\n",
    "lower_bound = 38\n",
    "upper_bound = 52\n",
    "z_range = 2\n",
    "\n",
    "mu = (lower_bound+upper_bound)/2\n",
    "std = (upper_bound - lower_bound)/(2*z_range)\n",
    "print(f\"Среднее значение равно {mu} кг\")\n",
    "print(f\"Стандартное отклонение равно {std} кг\")"
   ]
  },
  {
   "cell_type": "markdown",
   "id": "e388b057-4bce-4c55-9013-aba12bea5e42",
   "metadata": {},
   "source": [
    "**Задача 4**\n",
    "Длина указательного пальца взрослых мужчин примерно соответствует нормальному распределению, с μ=7.5 cm и σ=0.5 cm. Какова вероятность того, что длина указательного пальца случайно выбранного мужчины будет в диапазоне от 7.3см до 8,7см?"
   ]
  },
  {
   "cell_type": "code",
   "execution_count": 42,
   "id": "a1c3d96b-a510-4482-bb05-d1ce55ce48b2",
   "metadata": {},
   "outputs": [
    {
     "name": "stdout",
     "output_type": "stream",
     "text": [
      "Вероятность 7,3<=X<=8.7 равна 0.6472 (64.72%)\n"
     ]
    }
   ],
   "source": [
    "mu = 7.5\n",
    "sigma = 0.5\n",
    "lower_bound = 7.3\n",
    "upper_bound = 8.7\n",
    "p = norm.cdf(upper_bound,mu,sigma)-norm.cdf(lower_bound,mu,sigma)\n",
    "print(f\"Вероятность 7,3<=X<=8.7 равна {p:.4f} ({p*100:.2f}%)\")"
   ]
  },
  {
   "cell_type": "markdown",
   "id": "f38d1fac-9a63-4e90-819d-a36be05c6b00",
   "metadata": {},
   "source": [
    "**Задача 5**\n",
    "IQ человека является нормально распределённой величиной с μ=100 и σ=15. Какова вероятность того, что у случайно выбранного человека IQ будет выше 140?"
   ]
  },
  {
   "cell_type": "code",
   "execution_count": 43,
   "id": "291cecb4-cb5c-4f5a-a976-f2e039823ff8",
   "metadata": {},
   "outputs": [
    {
     "name": "stdout",
     "output_type": "stream",
     "text": [
      "Вероятность того, что IQ случайно выбранного человека равно 0.0038 (0.38)%\n"
     ]
    }
   ],
   "source": [
    "mu = 100\n",
    "sigma = 15\n",
    "IQ_distribution = norm(loc=mu, scale=sigma)\n",
    "p_IQ_higher_than_140 = IQ_distribution.sf(140)\n",
    "print(f\"Вероятность того, что IQ случайно выбранного человека равно {p_IQ_higher_than_140:.4f} ({p_IQ_higher_than_140*100:.2f})%\")"
   ]
  },
  {
   "cell_type": "code",
   "execution_count": null,
   "id": "0ac733b0-8880-45c4-8894-9ae52bd9e6a9",
   "metadata": {},
   "outputs": [],
   "source": []
  }
 ],
 "metadata": {
  "kernelspec": {
   "display_name": "Python 3 (ipykernel)",
   "language": "python",
   "name": "python3"
  },
  "language_info": {
   "codemirror_mode": {
    "name": "ipython",
    "version": 3
   },
   "file_extension": ".py",
   "mimetype": "text/x-python",
   "name": "python",
   "nbconvert_exporter": "python",
   "pygments_lexer": "ipython3",
   "version": "3.12.7"
  }
 },
 "nbformat": 4,
 "nbformat_minor": 5
}
