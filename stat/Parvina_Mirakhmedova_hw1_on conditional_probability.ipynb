{
 "cells": [
  {
   "cell_type": "markdown",
   "id": "0c042011-fcb6-40aa-b9c9-e7e677e46c2f",
   "metadata": {},
   "source": [
    "Домашнее  задание по условной вероятности\n",
    "Исполнитель: Мирахмедова Парвина"
   ]
  },
  {
   "cell_type": "markdown",
   "id": "d0b199e0-7dbb-45f6-aeeb-2a825d859231",
   "metadata": {},
   "source": [
    "**Задача 1**\n",
    "В колоде 52 карты. Вы поочерёдно вытаскиваете из колоды две карты, без возврата. Какова вероятность того, что вы вытащите два туза?"
   ]
  },
  {
   "cell_type": "code",
   "execution_count": 25,
   "id": "66e82082-db52-4698-b469-4d99e1e14ec7",
   "metadata": {},
   "outputs": [
    {
     "name": "stdout",
     "output_type": "stream",
     "text": [
      "Вероятность вытащить 2 туза равна 0.0045 (0.45%)\n"
     ]
    }
   ],
   "source": [
    "num_cards = 52\n",
    "num_aces = 4\n",
    "\n",
    "p_attempt_1_ace = num_aces/num_cards\n",
    "p_attempt_2_ace = (num_aces-1)/(num_cards-1)\n",
    "p_total = p_attempt_1_ace*p_attempt_2_ace\n",
    "\n",
    "print(f\"Вероятность вытащить 2 туза равна {p_total:.4f} ({p_total*100:.2f}%)\")\n"
   ]
  },
  {
   "cell_type": "markdown",
   "id": "a8fa1a3f-8407-498e-92cb-5a3a03795483",
   "metadata": {},
   "source": [
    "**Задача 2**\n",
    "Ваш друг просыпается поздно в среднем четыре дня из пяти. Если он просыпается поздно, он опаздывает на работу с вероятностью 70%. Если же он просыпается вовремя, он опаздывает с вероятностью 10%. Какова вероятность того, что ваш друг опоздает на работу?"
   ]
  },
  {
   "cell_type": "code",
   "execution_count": 24,
   "id": "f690a0a9-86c5-4435-b534-abeabe922b36",
   "metadata": {},
   "outputs": [
    {
     "name": "stdout",
     "output_type": "stream",
     "text": [
      "Вероятность, что Ваш друг опоздает на работу равна 0.5800(58.00%)\n"
     ]
    }
   ],
   "source": [
    "late_wake_up_days = 4/5\n",
    "on_time_wake_up_days = 1-late_wake_up_days \n",
    "p_to_be_late_given_late_wake_up = 0.7\n",
    "p_to_be_late_given_on_time_wake_up = 0.1\n",
    "\n",
    "p_total = (late_wake_up_days*p_to_be_late_given_late_wake_up) + (on_time_wake_up_days*p_to_be_late_given_on_time_wake_up)\n",
    "\n",
    "print (f\"Вероятность, что Ваш друг опоздает на работу равна {p_total:.4f}({p_total*100:.2f}%)\")"
   ]
  },
  {
   "cell_type": "markdown",
   "id": "949fb439-8f5c-498b-8e24-a9dedf4bee2b",
   "metadata": {},
   "source": [
    "**Задача 3**\n",
    "В мешке содержатся 3 белых шара, 4 зелёных шара и 5 красных шаров. Вы вытаскиваете поочерёдно два шара из мешка, без возврата. Какова вероятность того, что вы вытащите зелёный и красный шары в любом порядке?"
   ]
  },
  {
   "cell_type": "code",
   "execution_count": 32,
   "id": "14749153-e90b-4899-8d7d-c9c37f69d8dd",
   "metadata": {},
   "outputs": [
    {
     "name": "stdout",
     "output_type": "stream",
     "text": [
      " Вероятность вытащить зеленый и красный шары в любом порядке равна 0.6061 (60.61%)\n"
     ]
    }
   ],
   "source": [
    "import math \n",
    "white_balls = 3\n",
    "green_balls = 4\n",
    "red_balls = 5\n",
    "\n",
    "total_balls = white_balls+green_balls+red_balls\n",
    "attempts = 2\n",
    "\n",
    "total_outcomes = math.factorial(total_balls)/(math.factorial(attempts)*math.factorial(total_balls-attempts))\n",
    "\n",
    "desired_outcomes = green_balls * red_balls * 2\n",
    "\n",
    "p_desired_outcomes = desired_outcomes/total_outcomes\n",
    "\n",
    "print(f\" Вероятность вытащить зеленый и красный шары в любом порядке равна {p_desired_outcomes:.4f} ({p_desired_outcomes*100:.2f}%)\")"
   ]
  },
  {
   "cell_type": "markdown",
   "id": "71b35ba9-2e10-43fe-af6b-cae05ac65661",
   "metadata": {},
   "source": [
    "**Задача 4**\n",
    "На фабрике по производству чипсов 98% всех упаковок содержат вкусовые добавки. В рамках испытаний, группе добровольцев было предложено попробовать чипсы и определить имеются ли в них вкусовые добавки. 99% испытуемых попробовав чипсы со вкусовыми добавками ответили \"Да\". При этом, 2.5% испытуемых, которым были поданы чипсы без вкусовых добавок, также ответили \"Да\" . Если попробовав рандомно выбранную упаковку, испытуемый отвечает \"Нет\", какова вероятность того что чипсы действительно не содержат вкусовых добавок?"
   ]
  },
  {
   "cell_type": "code",
   "execution_count": 46,
   "id": "abc7fa50-2e30-4f19-9527-443ba17edc56",
   "metadata": {},
   "outputs": [
    {
     "name": "stdout",
     "output_type": "stream",
     "text": [
      "Вероятность того что чипсы действительно не содержат вкусовых добавок: 0.6655\n"
     ]
    }
   ],
   "source": [
    "p_bags_with_add = 0.98\n",
    "p_bags_without_add = 1 - p_bags_with_add\n",
    "\n",
    "p_people_said_yes_given_p_bags_with_add = 0.99\n",
    "p_people_said_no_given_p_bags_with_add = 1 - p_people_said_yes_given_p_bags_with_add\n",
    "\n",
    "p_people_said_yes_given_p_bags_without_add = 0.025\n",
    "p_people_said_no_given_p_bags_without_add = 1 - p_people_said_yes_given_p_bags_without_add \n",
    "\n",
    "p_total_p_people_said_no_given_p_bags_without_add = (p_people_said_no_given_p_bags_without_add*p_bags_without_add)+(p_people_said_no_given_p_bags_with_add *p_bags_with_add)\n",
    "\n",
    "nom = p_people_said_no_given_p_bags_without_add*p_bags_without_add\n",
    "denom = p_total_p_people_said_no_given_p_bags_without_add\n",
    "p_total_people_said_no_given_p_bags_without_add = nom/denom\n",
    "\n",
    "print(f\"Вероятность того что чипсы действительно не содержат вкусовых добавок: {p_total_people_said_no_given_p_bags_without_add:.4f}\")\n"
   ]
  },
  {
   "cell_type": "markdown",
   "id": "02c3f1ea-be16-4b1a-b92b-03ffc5540cc9",
   "metadata": {},
   "source": [
    "**Задача 5**\n",
    "Известно что движок некоей модели автомобиля перегревается в 3% случаев. При перегреве движка, в 98% случаев включается индикатор оповещения. Однако, в 1% случаев, индикатор включается без перегрева. Ответьте на следующие вопросы:\n",
    "какова вероятность включения индикатора?\n",
    "если водитель видит включённый индикатор, какова вероятность того что движок действительно перегрелся?"
   ]
  },
  {
   "cell_type": "code",
   "execution_count": 50,
   "id": "4f84919b-79d5-49b3-a6c5-695bdb39cdfd",
   "metadata": {},
   "outputs": [
    {
     "name": "stdout",
     "output_type": "stream",
     "text": [
      "Вероятность включения индикатора: 0.3010 ( 30.10%)\n",
      "Вероятность перегрева при включённом индикаторе: 0.9767 (97.67%)\n"
     ]
    }
   ],
   "source": [
    "p_overheat = 0.3\n",
    "p_no_overheat = 1 - p_overheat \n",
    "p_indicator_given_overheat = 0.98 \n",
    "p_indicator_given_no_overheat = 0.01 \n",
    "\n",
    "p_indicator = (p_indicator_given_overheat * p_overheat) + (p_indicator_given_no_overheat * p_no_overheat)\n",
    "\n",
    "p_overheat_given_indicator = (p_indicator_given_overheat * p_overheat) / p_indicator\n",
    "print(f\"Вероятность включения индикатора: {p_indicator:.4f} ( {p_indicator * 100:.2f}%)\")\n",
    "print(f\"Вероятность перегрева при включённом индикаторе: {p_overheat_given_indicator:.4f} ({p_overheat_given_indicator * 100:.2f}%)\")"
   ]
  },
  {
   "cell_type": "code",
   "execution_count": null,
   "id": "6c5db147-e1d9-41ca-87db-8cd76b4def6b",
   "metadata": {},
   "outputs": [],
   "source": []
  }
 ],
 "metadata": {
  "kernelspec": {
   "display_name": "Python 3 (ipykernel)",
   "language": "python",
   "name": "python3"
  },
  "language_info": {
   "codemirror_mode": {
    "name": "ipython",
    "version": 3
   },
   "file_extension": ".py",
   "mimetype": "text/x-python",
   "name": "python",
   "nbconvert_exporter": "python",
   "pygments_lexer": "ipython3",
   "version": "3.12.7"
  }
 },
 "nbformat": 4,
 "nbformat_minor": 5
}
